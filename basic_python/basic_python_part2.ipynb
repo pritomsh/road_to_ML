{
 "cells": [
  {
   "cell_type": "markdown",
   "id": "56e5eb3a",
   "metadata": {},
   "source": [
    "#   Python Data Structures\n",
    "###  List, Set, Tuples and Dictionary         "
   ]
  },
  {
   "cell_type": "markdown",
   "id": "fb34e5f5",
   "metadata": {},
   "source": [
    "# List\n",
    "\n",
    "### mutable , changeable , ordered sequence , allowed \n",
    "\n",
    "[]"
   ]
  },
  {
   "cell_type": "code",
   "execution_count": 4,
   "id": "58b2d0a5",
   "metadata": {},
   "outputs": [],
   "source": [
    "list1 = [1,2,3,{\"Pritom\", \"Saha\"},{\"name\": \"Pritom \",\"age\" : 25}]"
   ]
  },
  {
   "cell_type": "code",
   "execution_count": 5,
   "id": "177620e0",
   "metadata": {},
   "outputs": [
    {
     "data": {
      "text/plain": [
       "list"
      ]
     },
     "execution_count": 5,
     "metadata": {},
     "output_type": "execute_result"
    }
   ],
   "source": [
    "type(list1)"
   ]
  },
  {
   "cell_type": "code",
   "execution_count": 6,
   "id": "e23b1bbb",
   "metadata": {},
   "outputs": [
    {
     "data": {
      "text/plain": [
       "[1, 2, 3, {'Pritom', 'Saha'}, {'name': 'Pritom ', 'age': 25}]"
      ]
     },
     "execution_count": 6,
     "metadata": {},
     "output_type": "execute_result"
    }
   ],
   "source": [
    "list1"
   ]
  },
  {
   "cell_type": "code",
   "execution_count": 12,
   "id": "bd7c5b71",
   "metadata": {},
   "outputs": [
    {
     "data": {
      "text/plain": [
       "1"
      ]
     },
     "execution_count": 12,
     "metadata": {},
     "output_type": "execute_result"
    }
   ],
   "source": [
    "list1[0]"
   ]
  },
  {
   "cell_type": "code",
   "execution_count": 13,
   "id": "289fe67f",
   "metadata": {},
   "outputs": [
    {
     "data": {
      "text/plain": [
       "{'name': 'Pritom ', 'age': 25}"
      ]
     },
     "execution_count": 13,
     "metadata": {},
     "output_type": "execute_result"
    }
   ],
   "source": [
    "list1[-1]"
   ]
  },
  {
   "cell_type": "code",
   "execution_count": 17,
   "id": "7656e855",
   "metadata": {},
   "outputs": [
    {
     "data": {
      "text/plain": [
       "'Pritom '"
      ]
     },
     "execution_count": 17,
     "metadata": {},
     "output_type": "execute_result"
    }
   ],
   "source": [
    "list1[-1][\"name\"]"
   ]
  },
  {
   "cell_type": "code",
   "execution_count": 16,
   "id": "4e1ffb6a",
   "metadata": {},
   "outputs": [
    {
     "data": {
      "text/plain": [
       "[2, 3]"
      ]
     },
     "execution_count": 16,
     "metadata": {},
     "output_type": "execute_result"
    }
   ],
   "source": [
    "list1[1:3]"
   ]
  },
  {
   "cell_type": "code",
   "execution_count": 18,
   "id": "e2751a88",
   "metadata": {},
   "outputs": [],
   "source": [
    "list1[0] = 5"
   ]
  },
  {
   "cell_type": "code",
   "execution_count": 19,
   "id": "ce9331de",
   "metadata": {},
   "outputs": [
    {
     "data": {
      "text/plain": [
       "[5, 2, 3, {'Pritom', 'Saha'}, {'name': 'Pritom ', 'age': 25}]"
      ]
     },
     "execution_count": 19,
     "metadata": {},
     "output_type": "execute_result"
    }
   ],
   "source": [
    "list1"
   ]
  },
  {
   "cell_type": "code",
   "execution_count": 20,
   "id": "b699a466",
   "metadata": {},
   "outputs": [],
   "source": [
    "list1.append(5)"
   ]
  },
  {
   "cell_type": "code",
   "execution_count": 21,
   "id": "b562d798",
   "metadata": {},
   "outputs": [
    {
     "data": {
      "text/plain": [
       "[5, 2, 3, {'Pritom', 'Saha'}, {'name': 'Pritom ', 'age': 25}, 5]"
      ]
     },
     "execution_count": 21,
     "metadata": {},
     "output_type": "execute_result"
    }
   ],
   "source": [
    "list1"
   ]
  },
  {
   "cell_type": "code",
   "execution_count": 22,
   "id": "1b380fb0",
   "metadata": {},
   "outputs": [
    {
     "data": {
      "text/plain": [
       "5"
      ]
     },
     "execution_count": 22,
     "metadata": {},
     "output_type": "execute_result"
    }
   ],
   "source": [
    " list1.pop() #pop normally remove last item of list "
   ]
  },
  {
   "cell_type": "code",
   "execution_count": 24,
   "id": "5d24fb6d",
   "metadata": {},
   "outputs": [
    {
     "data": {
      "text/plain": [
       "2"
      ]
     },
     "execution_count": 24,
     "metadata": {},
     "output_type": "execute_result"
    }
   ],
   "source": [
    "list1.pop(0) #if we give index than it remove that elements "
   ]
  },
  {
   "cell_type": "code",
   "execution_count": 25,
   "id": "1172f4f0",
   "metadata": {},
   "outputs": [
    {
     "data": {
      "text/plain": [
       "[3, {'Pritom', 'Saha'}, {'name': 'Pritom ', 'age': 25}]"
      ]
     },
     "execution_count": 25,
     "metadata": {},
     "output_type": "execute_result"
    }
   ],
   "source": [
    "list1"
   ]
  },
  {
   "cell_type": "code",
   "execution_count": 28,
   "id": "7a889868",
   "metadata": {},
   "outputs": [],
   "source": [
    "# creating list using list constructor\n",
    "list2 = list((1,2,3,(\"Pritom\", \"Saha\")))"
   ]
  },
  {
   "cell_type": "code",
   "execution_count": 29,
   "id": "ba4fdfbd",
   "metadata": {},
   "outputs": [
    {
     "data": {
      "text/plain": [
       "[1, 2, 3, ('Pritom', 'Saha')]"
      ]
     },
     "execution_count": 29,
     "metadata": {},
     "output_type": "execute_result"
    }
   ],
   "source": [
    "list2"
   ]
  },
  {
   "cell_type": "code",
   "execution_count": 30,
   "id": "1370536b",
   "metadata": {},
   "outputs": [
    {
     "data": {
      "text/plain": [
       "list"
      ]
     },
     "execution_count": 30,
     "metadata": {},
     "output_type": "execute_result"
    }
   ],
   "source": [
    "type(list2)"
   ]
  },
  {
   "cell_type": "code",
   "execution_count": 35,
   "id": "f2284b94",
   "metadata": {
    "scrolled": true
   },
   "outputs": [
    {
     "name": "stdout",
     "output_type": "stream",
     "text": [
      "How many  number you want to add in list 3\n",
      "1\n",
      "2\n",
      "3\n",
      "[1, 2, 3]\n"
     ]
    },
    {
     "data": {
      "text/plain": [
       "list"
      ]
     },
     "execution_count": 35,
     "metadata": {},
     "output_type": "execute_result"
    }
   ],
   "source": [
    "#input list from user\n",
    "list3 = []\n",
    "n = int(input(\"How many  number you want to add in list \"))\n",
    "for i in range(n):\n",
    "    list3.append(int(input()))\n",
    "    \n",
    "print(list3)\n",
    "type(list3)"
   ]
  },
  {
   "cell_type": "code",
   "execution_count": 39,
   "id": "2b12a050",
   "metadata": {},
   "outputs": [
    {
     "data": {
      "text/plain": [
       "[3, {'Pritom', 'Saha'}, {'name': 'Pritom ', 'age': 25}]"
      ]
     },
     "execution_count": 39,
     "metadata": {},
     "output_type": "execute_result"
    }
   ],
   "source": [
    "'''\n",
    "list methods \n",
    "copy(),append(),Extend(),insert(),index(),count(),sort(),reverse()\n",
    "remove() , pop() , clear()\n",
    "'''\n",
    "list1"
   ]
  },
  {
   "cell_type": "code",
   "execution_count": 7,
   "id": "ae5cd700",
   "metadata": {},
   "outputs": [],
   "source": [
    "list4= list1.copy()"
   ]
  },
  {
   "cell_type": "code",
   "execution_count": 8,
   "id": "cc6bcab7",
   "metadata": {},
   "outputs": [
    {
     "data": {
      "text/plain": [
       "[1, 2, 3, {'Pritom', 'Saha'}, {'name': 'Pritom ', 'age': 25}]"
      ]
     },
     "execution_count": 8,
     "metadata": {},
     "output_type": "execute_result"
    }
   ],
   "source": [
    "list4"
   ]
  },
  {
   "cell_type": "code",
   "execution_count": 10,
   "id": "e78e311d",
   "metadata": {},
   "outputs": [],
   "source": [
    "list4.append(1)"
   ]
  },
  {
   "cell_type": "code",
   "execution_count": 11,
   "id": "828b4197",
   "metadata": {},
   "outputs": [
    {
     "data": {
      "text/plain": [
       "[1, 2, 3, {'Pritom', 'Saha'}, {'name': 'Pritom ', 'age': 25}, 1]"
      ]
     },
     "execution_count": 11,
     "metadata": {},
     "output_type": "execute_result"
    }
   ],
   "source": [
    "list4"
   ]
  },
  {
   "cell_type": "code",
   "execution_count": 12,
   "id": "c6b6e942",
   "metadata": {},
   "outputs": [],
   "source": [
    "list4.extend(list1)"
   ]
  },
  {
   "cell_type": "code",
   "execution_count": 13,
   "id": "410640a8",
   "metadata": {},
   "outputs": [
    {
     "data": {
      "text/plain": [
       "[1,\n",
       " 2,\n",
       " 3,\n",
       " {'Pritom', 'Saha'},\n",
       " {'name': 'Pritom ', 'age': 25},\n",
       " 1,\n",
       " 1,\n",
       " 2,\n",
       " 3,\n",
       " {'Pritom', 'Saha'},\n",
       " {'name': 'Pritom ', 'age': 25}]"
      ]
     },
     "execution_count": 13,
     "metadata": {},
     "output_type": "execute_result"
    }
   ],
   "source": [
    "list4"
   ]
  },
  {
   "cell_type": "code",
   "execution_count": 14,
   "id": "baffffdf",
   "metadata": {},
   "outputs": [],
   "source": [
    "#insert()\n",
    "list4.insert(0,\"DIU\")"
   ]
  },
  {
   "cell_type": "code",
   "execution_count": 15,
   "id": "5ed29a20",
   "metadata": {},
   "outputs": [
    {
     "data": {
      "text/plain": [
       "['DIU',\n",
       " 1,\n",
       " 2,\n",
       " 3,\n",
       " {'Pritom', 'Saha'},\n",
       " {'name': 'Pritom ', 'age': 25},\n",
       " 1,\n",
       " 1,\n",
       " 2,\n",
       " 3,\n",
       " {'Pritom', 'Saha'},\n",
       " {'name': 'Pritom ', 'age': 25}]"
      ]
     },
     "execution_count": 15,
     "metadata": {},
     "output_type": "execute_result"
    }
   ],
   "source": [
    "list4"
   ]
  },
  {
   "cell_type": "code",
   "execution_count": 16,
   "id": "d0837dd7",
   "metadata": {},
   "outputs": [
    {
     "data": {
      "text/plain": [
       "0"
      ]
     },
     "execution_count": 16,
     "metadata": {},
     "output_type": "execute_result"
    }
   ],
   "source": [
    "list4.index(\"DIU\")"
   ]
  },
  {
   "cell_type": "code",
   "execution_count": 36,
   "id": "454edb4a",
   "metadata": {},
   "outputs": [],
   "source": [
    " list5 = [2,1,3,5,4,10,9]"
   ]
  },
  {
   "cell_type": "code",
   "execution_count": 37,
   "id": "4603d1c5",
   "metadata": {},
   "outputs": [],
   "source": [
    "list5.sort()"
   ]
  },
  {
   "cell_type": "code",
   "execution_count": 38,
   "id": "6ebcb931",
   "metadata": {},
   "outputs": [
    {
     "data": {
      "text/plain": [
       "[1, 2, 3, 4, 5, 9, 10]"
      ]
     },
     "execution_count": 38,
     "metadata": {},
     "output_type": "execute_result"
    }
   ],
   "source": [
    "list5"
   ]
  },
  {
   "cell_type": "code",
   "execution_count": 39,
   "id": "42eea2e7",
   "metadata": {},
   "outputs": [],
   "source": [
    "list5.reverse()"
   ]
  },
  {
   "cell_type": "code",
   "execution_count": 40,
   "id": "69a668ad",
   "metadata": {},
   "outputs": [
    {
     "data": {
      "text/plain": [
       "[10, 9, 5, 4, 3, 2, 1]"
      ]
     },
     "execution_count": 40,
     "metadata": {},
     "output_type": "execute_result"
    }
   ],
   "source": [
    "list5"
   ]
  },
  {
   "cell_type": "code",
   "execution_count": 41,
   "id": "ff7477bd",
   "metadata": {},
   "outputs": [
    {
     "data": {
      "text/plain": [
       "[10, 9, 5, 3, 2, 1]"
      ]
     },
     "execution_count": 41,
     "metadata": {},
     "output_type": "execute_result"
    }
   ],
   "source": [
    "#remove\n",
    "list5.remove(4)\n",
    "list5"
   ]
  },
  {
   "cell_type": "code",
   "execution_count": 34,
   "id": "6b168c1f",
   "metadata": {},
   "outputs": [],
   "source": [
    "list5.clear()"
   ]
  },
  {
   "cell_type": "code",
   "execution_count": 35,
   "id": "085e6424",
   "metadata": {},
   "outputs": [
    {
     "data": {
      "text/plain": [
       "[]"
      ]
     },
     "execution_count": 35,
     "metadata": {},
     "output_type": "execute_result"
    }
   ],
   "source": [
    "list5"
   ]
  },
  {
   "cell_type": "code",
   "execution_count": 42,
   "id": "51ba623f",
   "metadata": {},
   "outputs": [],
   "source": [
    "del list5[0]"
   ]
  },
  {
   "cell_type": "code",
   "execution_count": 43,
   "id": "e84fcc73",
   "metadata": {},
   "outputs": [
    {
     "data": {
      "text/plain": [
       "[9, 5, 3, 2, 1]"
      ]
     },
     "execution_count": 43,
     "metadata": {},
     "output_type": "execute_result"
    }
   ],
   "source": [
    "list5"
   ]
  },
  {
   "cell_type": "markdown",
   "id": "11bc75bf",
   "metadata": {},
   "source": [
    "# List Comprehension "
   ]
  },
  {
   "cell_type": "code",
   "execution_count": 46,
   "id": "0c320ee1",
   "metadata": {},
   "outputs": [],
   "source": [
    "list6 = [i*i for i in range(10) if i%2==0]"
   ]
  },
  {
   "cell_type": "code",
   "execution_count": 47,
   "id": "b0fff79d",
   "metadata": {},
   "outputs": [
    {
     "data": {
      "text/plain": [
       "[0, 4, 16, 36, 64]"
      ]
     },
     "execution_count": 47,
     "metadata": {},
     "output_type": "execute_result"
    }
   ],
   "source": [
    "list6"
   ]
  },
  {
   "cell_type": "markdown",
   "id": "b3764af7",
   "metadata": {},
   "source": [
    "#  Tuple\n",
    "\n",
    "### we cannot change elements"
   ]
  },
  {
   "cell_type": "code",
   "execution_count": 52,
   "id": "c064414e",
   "metadata": {},
   "outputs": [
    {
     "data": {
      "text/plain": [
       "tuple"
      ]
     },
     "execution_count": 52,
     "metadata": {},
     "output_type": "execute_result"
    }
   ],
   "source": [
    "tup1=()\n",
    "type(tup)"
   ]
  },
  {
   "cell_type": "code",
   "execution_count": 53,
   "id": "04a967df",
   "metadata": {},
   "outputs": [],
   "source": [
    "tup1 =('Pritom','Saha',1,2,3)"
   ]
  },
  {
   "cell_type": "code",
   "execution_count": 54,
   "id": "1ce0d0fb",
   "metadata": {},
   "outputs": [
    {
     "data": {
      "text/plain": [
       "('Pritom', 'Saha', 1, 2, 3)"
      ]
     },
     "execution_count": 54,
     "metadata": {},
     "output_type": "execute_result"
    }
   ],
   "source": [
    "tup1"
   ]
  },
  {
   "cell_type": "code",
   "execution_count": 55,
   "id": "73df417c",
   "metadata": {},
   "outputs": [
    {
     "data": {
      "text/plain": [
       "('Pritom', 'Saha')"
      ]
     },
     "execution_count": 55,
     "metadata": {},
     "output_type": "execute_result"
    }
   ],
   "source": [
    "tup1[:2]"
   ]
  },
  {
   "cell_type": "code",
   "execution_count": 57,
   "id": "2249f512",
   "metadata": {},
   "outputs": [],
   "source": [
    "tup2 = 1,2,3,'pritom','saha'"
   ]
  },
  {
   "cell_type": "code",
   "execution_count": 58,
   "id": "b75227ef",
   "metadata": {},
   "outputs": [
    {
     "data": {
      "text/plain": [
       "tuple"
      ]
     },
     "execution_count": 58,
     "metadata": {},
     "output_type": "execute_result"
    }
   ],
   "source": [
    "type(tup2)"
   ]
  },
  {
   "cell_type": "code",
   "execution_count": 59,
   "id": "1e20c5d4",
   "metadata": {},
   "outputs": [
    {
     "data": {
      "text/plain": [
       "('Pritom', 'Saha', 1, 2, 3, 1, 2, 3, 'pritom', 'saha')"
      ]
     },
     "execution_count": 59,
     "metadata": {},
     "output_type": "execute_result"
    }
   ],
   "source": [
    "tup1 + tup2"
   ]
  },
  {
   "cell_type": "code",
   "execution_count": 60,
   "id": "f2f418bc",
   "metadata": {},
   "outputs": [
    {
     "data": {
      "text/plain": [
       "('Pritom', 'Saha', 1, 2, 3, 'Pritom', 'Saha', 1, 2, 3)"
      ]
     },
     "execution_count": 60,
     "metadata": {},
     "output_type": "execute_result"
    }
   ],
   "source": [
    "tup1 * 2"
   ]
  },
  {
   "cell_type": "code",
   "execution_count": 63,
   "id": "46f75db2",
   "metadata": {},
   "outputs": [
    {
     "data": {
      "text/plain": [
       "1"
      ]
     },
     "execution_count": 63,
     "metadata": {},
     "output_type": "execute_result"
    }
   ],
   "source": [
    "tup2.count('pritom')"
   ]
  },
  {
   "cell_type": "code",
   "execution_count": 64,
   "id": "9b411383",
   "metadata": {},
   "outputs": [
    {
     "data": {
      "text/plain": [
       "0"
      ]
     },
     "execution_count": 64,
     "metadata": {},
     "output_type": "execute_result"
    }
   ],
   "source": [
    "tup2.index(1)"
   ]
  },
  {
   "cell_type": "code",
   "execution_count": 65,
   "id": "ea9bb38b",
   "metadata": {},
   "outputs": [
    {
     "data": {
      "text/plain": [
       "True"
      ]
     },
     "execution_count": 65,
     "metadata": {},
     "output_type": "execute_result"
    }
   ],
   "source": [
    "'pritom' in tup2"
   ]
  },
  {
   "cell_type": "code",
   "execution_count": 66,
   "id": "0905ab9a",
   "metadata": {},
   "outputs": [],
   "source": [
    "del tup2"
   ]
  },
  {
   "cell_type": "code",
   "execution_count": null,
   "id": "27ffa57e",
   "metadata": {},
   "outputs": [],
   "source": []
  },
  {
   "cell_type": "markdown",
   "id": "02402095",
   "metadata": {},
   "source": [
    "#  SET\n",
    "### don't order item\n",
    "### don't allow duplicate value\n"
   ]
  },
  {
   "cell_type": "code",
   "execution_count": 68,
   "id": "69c27e89",
   "metadata": {},
   "outputs": [],
   "source": [
    "set1={1,2,3,1,5,1,6}"
   ]
  },
  {
   "cell_type": "code",
   "execution_count": 69,
   "id": "76c04cff",
   "metadata": {},
   "outputs": [
    {
     "data": {
      "text/plain": [
       "{1, 2, 3, 5, 6}"
      ]
     },
     "execution_count": 69,
     "metadata": {},
     "output_type": "execute_result"
    }
   ],
   "source": [
    "set1"
   ]
  },
  {
   "cell_type": "code",
   "execution_count": 70,
   "id": "56f69143",
   "metadata": {},
   "outputs": [
    {
     "data": {
      "text/plain": [
       "set"
      ]
     },
     "execution_count": 70,
     "metadata": {},
     "output_type": "execute_result"
    }
   ],
   "source": [
    "type(set1)"
   ]
  },
  {
   "cell_type": "code",
   "execution_count": 71,
   "id": "bb844a32",
   "metadata": {},
   "outputs": [],
   "source": [
    "set2={}"
   ]
  },
  {
   "cell_type": "code",
   "execution_count": 72,
   "id": "3cc16369",
   "metadata": {},
   "outputs": [
    {
     "data": {
      "text/plain": [
       "('Pritom', 'Saha', 1, 2, 3)"
      ]
     },
     "execution_count": 72,
     "metadata": {},
     "output_type": "execute_result"
    }
   ],
   "source": [
    "tup1"
   ]
  },
  {
   "cell_type": "code",
   "execution_count": 73,
   "id": "6edab87f",
   "metadata": {},
   "outputs": [],
   "source": [
    "list7 = list(tup1)"
   ]
  },
  {
   "cell_type": "code",
   "execution_count": 74,
   "id": "f092a35a",
   "metadata": {},
   "outputs": [
    {
     "data": {
      "text/plain": [
       "['Pritom', 'Saha', 1, 2, 3]"
      ]
     },
     "execution_count": 74,
     "metadata": {},
     "output_type": "execute_result"
    }
   ],
   "source": [
    "list7"
   ]
  },
  {
   "cell_type": "code",
   "execution_count": null,
   "id": "e0c67e1f",
   "metadata": {},
   "outputs": [],
   "source": []
  }
 ],
 "metadata": {
  "kernelspec": {
   "display_name": "Python 3 (ipykernel)",
   "language": "python",
   "name": "python3"
  },
  "language_info": {
   "codemirror_mode": {
    "name": "ipython",
    "version": 3
   },
   "file_extension": ".py",
   "mimetype": "text/x-python",
   "name": "python",
   "nbconvert_exporter": "python",
   "pygments_lexer": "ipython3",
   "version": "3.9.13"
  }
 },
 "nbformat": 4,
 "nbformat_minor": 5
}
