{
 "cells": [
  {
   "cell_type": "markdown",
   "id": "37f19516",
   "metadata": {},
   "source": [
    "# # Basic Python \n",
    "### I will try to describe broadly python\n",
    "### HAPPY CODNING\n"
   ]
  },
  {
   "cell_type": "markdown",
   "id": "dca6e720",
   "metadata": {},
   "source": [
    "#### Here I started with how to comment in code . Comment help us to remember why we used a specific command, method, or function in the code, makes the code easily understandable by other programmers\n",
    "#### For single-line comments begin with the “ # ” character\n",
    "#### For a multiline string (triple quotes) in our code"
   ]
  },
  {
   "cell_type": "raw",
   "id": "f73f2850",
   "metadata": {},
   "source": [
    "Keyword In Python. We cannot use a keyword as a variable name, function name, or any other identifier .\n",
    "\n",
    "                            False\t  await   \telse\t   import   \tpass\n",
    "                            None\t  break\t    except     in\t        raise\n",
    "                            True\t  class\t    finally\t   is\t        return\n",
    "                            and\t      continue\tfor\t       lambda\t    try\n",
    "                            as\t      def\t    from\t   nonlocal\t    while\n",
    "                            assert\t  del\t    global\t   not\t        with\n",
    "                            async\t  elif\t    if         or\t        yield"
   ]
  },
  {
   "cell_type": "code",
   "execution_count": 1,
   "id": "30325e32",
   "metadata": {},
   "outputs": [
    {
     "name": "stdout",
     "output_type": "stream",
     "text": [
      "Hello World\n"
     ]
    }
   ],
   "source": [
    "print ('Hello World') #show the output we use print function"
   ]
  },
  {
   "cell_type": "code",
   "execution_count": 2,
   "id": "f11168cd",
   "metadata": {},
   "outputs": [
    {
     "name": "stdout",
     "output_type": "stream",
     "text": [
      "Hello + World\n"
     ]
    }
   ],
   "source": [
    "print ('Hello ',' World',sep = '+') #separator use to separate the objects"
   ]
  },
  {
   "cell_type": "code",
   "execution_count": 3,
   "id": "66888dfa",
   "metadata": {},
   "outputs": [
    {
     "name": "stdout",
     "output_type": "stream",
     "text": [
      "Hello + World."
     ]
    }
   ],
   "source": [
    "print ('Hello ',' World',sep = '+',end = '.') #end use what to print at the end"
   ]
  },
  {
   "cell_type": "markdown",
   "id": "bb9220ed",
   "metadata": {},
   "source": [
    "# Variables \n",
    "###  Python is a type-inferred language, so you don't have to explicitly define the variable type.Always try to use meaningful variable name.\n",
    "####  Camel Case   -  Each word, except the first, starts with a capital letter\n",
    "####  Pascal Case  -  Each word starts with a capital letter\n",
    "####  Snake Case   -  Each word is separated by an underscore character(***)"
   ]
  },
  {
   "cell_type": "code",
   "execution_count": 4,
   "id": "ada6fd7c",
   "metadata": {},
   "outputs": [],
   "source": [
    "number1 = 10 \n",
    "number2 = 20"
   ]
  },
  {
   "cell_type": "code",
   "execution_count": 5,
   "id": "7ab74860",
   "metadata": {},
   "outputs": [
    {
     "name": "stdout",
     "output_type": "stream",
     "text": [
      "10,20\n"
     ]
    }
   ],
   "source": [
    "print(number1,number2,sep=',')"
   ]
  },
  {
   "cell_type": "code",
   "execution_count": 6,
   "id": "3e088b93",
   "metadata": {},
   "outputs": [
    {
     "name": "stdout",
     "output_type": "stream",
     "text": [
      "First number 10 Second 20\n"
     ]
    }
   ],
   "source": [
    "print(\"First number\",number1,\"Second\",number2)"
   ]
  },
  {
   "cell_type": "code",
   "execution_count": 7,
   "id": "c73ec1c9",
   "metadata": {},
   "outputs": [
    {
     "name": "stdout",
     "output_type": "stream",
     "text": [
      "1696063947280\n",
      "1696063947600\n"
     ]
    }
   ],
   "source": [
    "print(id(number1))\n",
    "print(id(number2))"
   ]
  },
  {
   "cell_type": "code",
   "execution_count": 8,
   "id": "cf6f8095",
   "metadata": {},
   "outputs": [
    {
     "name": "stdout",
     "output_type": "stream",
     "text": [
      "28\n",
      "28\n"
     ]
    }
   ],
   "source": [
    "import sys \n",
    "print(sys.getsizeof(number1))\n",
    "print(sys.getsizeof(number1))"
   ]
  },
  {
   "cell_type": "markdown",
   "id": "88c29289",
   "metadata": {},
   "source": [
    "# input function  input(). Take input from user \n",
    "## primary type of data type string"
   ]
  },
  {
   "cell_type": "code",
   "execution_count": 112,
   "id": "e841ceab",
   "metadata": {},
   "outputs": [
    {
     "name": "stdout",
     "output_type": "stream",
     "text": [
      "What is your name ? Pritom Saha\n"
     ]
    }
   ],
   "source": [
    "name = input ('What is your name ? ')"
   ]
  },
  {
   "cell_type": "code",
   "execution_count": 113,
   "id": "cae219a3",
   "metadata": {},
   "outputs": [
    {
     "data": {
      "text/plain": [
       "'Pritom Saha'"
      ]
     },
     "execution_count": 113,
     "metadata": {},
     "output_type": "execute_result"
    }
   ],
   "source": [
    "name"
   ]
  },
  {
   "cell_type": "code",
   "execution_count": 114,
   "id": "ef9f0903",
   "metadata": {},
   "outputs": [
    {
     "data": {
      "text/plain": [
       "str"
      ]
     },
     "execution_count": 114,
     "metadata": {},
     "output_type": "execute_result"
    }
   ],
   "source": [
    "type(name) # type check data type"
   ]
  },
  {
   "cell_type": "code",
   "execution_count": 115,
   "id": "d6016be1",
   "metadata": {},
   "outputs": [
    {
     "name": "stdout",
     "output_type": "stream",
     "text": [
      "Enter 1st number: 10\n"
     ]
    }
   ],
   "source": [
    "number1 = int(input('Enter 1st number: ')) #type casting use to chnage the variable type "
   ]
  },
  {
   "cell_type": "code",
   "execution_count": 116,
   "id": "dcfd2af2",
   "metadata": {},
   "outputs": [
    {
     "name": "stdout",
     "output_type": "stream",
     "text": [
      "Enter 2nd number: 10\n"
     ]
    }
   ],
   "source": [
    "number2 = float(input('Enter 2nd number: '))"
   ]
  },
  {
   "cell_type": "code",
   "execution_count": 118,
   "id": "bab6cc2b",
   "metadata": {},
   "outputs": [
    {
     "data": {
      "text/plain": [
       "20.0"
      ]
     },
     "execution_count": 118,
     "metadata": {},
     "output_type": "execute_result"
    }
   ],
   "source": [
    "number1+number2"
   ]
  },
  {
   "cell_type": "code",
   "execution_count": null,
   "id": "cca6e927",
   "metadata": {},
   "outputs": [],
   "source": []
  },
  {
   "cell_type": "markdown",
   "id": "99a72abd",
   "metadata": {},
   "source": [
    "#  everything about string  "
   ]
  },
  {
   "cell_type": "code",
   "execution_count": 119,
   "id": "7bec63fb",
   "metadata": {},
   "outputs": [],
   "source": [
    "name = \"Pritom Saha\""
   ]
  },
  {
   "cell_type": "code",
   "execution_count": 120,
   "id": "ad7b2550",
   "metadata": {},
   "outputs": [
    {
     "data": {
      "text/plain": [
       "str"
      ]
     },
     "execution_count": 120,
     "metadata": {},
     "output_type": "execute_result"
    }
   ],
   "source": [
    "type(name)"
   ]
  },
  {
   "cell_type": "code",
   "execution_count": 121,
   "id": "14de011e",
   "metadata": {},
   "outputs": [
    {
     "data": {
      "text/plain": [
       "11"
      ]
     },
     "execution_count": 121,
     "metadata": {},
     "output_type": "execute_result"
    }
   ],
   "source": [
    "len(name)"
   ]
  },
  {
   "cell_type": "code",
   "execution_count": 122,
   "id": "64d7f2b1",
   "metadata": {},
   "outputs": [
    {
     "data": {
      "text/plain": [
       "1"
      ]
     },
     "execution_count": 122,
     "metadata": {},
     "output_type": "execute_result"
    }
   ],
   "source": [
    "sub_string = 'Saha' \n",
    "name.count(sub_string) "
   ]
  },
  {
   "cell_type": "code",
   "execution_count": 19,
   "id": "dba34ee6",
   "metadata": {},
   "outputs": [
    {
     "data": {
      "text/plain": [
       "7"
      ]
     },
     "execution_count": 19,
     "metadata": {},
     "output_type": "execute_result"
    }
   ],
   "source": [
    "name.find('Saha') #find value from string"
   ]
  },
  {
   "cell_type": "code",
   "execution_count": 20,
   "id": "4e787228",
   "metadata": {},
   "outputs": [
    {
     "data": {
      "text/plain": [
       "-1"
      ]
     },
     "execution_count": 20,
     "metadata": {},
     "output_type": "execute_result"
    }
   ],
   "source": [
    "name.find('s',4,8) #give range for check , if not found give -1"
   ]
  },
  {
   "cell_type": "code",
   "execution_count": 21,
   "id": "7cc8d414",
   "metadata": {},
   "outputs": [
    {
     "data": {
      "text/plain": [
       "'pritom saha'"
      ]
     },
     "execution_count": 21,
     "metadata": {},
     "output_type": "execute_result"
    }
   ],
   "source": [
    "name.lower()"
   ]
  },
  {
   "cell_type": "code",
   "execution_count": 22,
   "id": "3e45fbcd",
   "metadata": {},
   "outputs": [
    {
     "data": {
      "text/plain": [
       "'PRITOM SAHA'"
      ]
     },
     "execution_count": 22,
     "metadata": {},
     "output_type": "execute_result"
    }
   ],
   "source": [
    "name.upper()"
   ]
  },
  {
   "cell_type": "code",
   "execution_count": 23,
   "id": "c3345609",
   "metadata": {},
   "outputs": [
    {
     "data": {
      "text/plain": [
       "'pritom saha'"
      ]
     },
     "execution_count": 23,
     "metadata": {},
     "output_type": "execute_result"
    }
   ],
   "source": [
    "name.casefold() #lower"
   ]
  },
  {
   "cell_type": "code",
   "execution_count": 24,
   "id": "ce5e92ba",
   "metadata": {},
   "outputs": [
    {
     "data": {
      "text/plain": [
       "'Pritom saha'"
      ]
     },
     "execution_count": 24,
     "metadata": {},
     "output_type": "execute_result"
    }
   ],
   "source": [
    "name.capitalize() #1st work upper "
   ]
  },
  {
   "cell_type": "code",
   "execution_count": 25,
   "id": "3e3b9559",
   "metadata": {},
   "outputs": [
    {
     "data": {
      "text/plain": [
       "'pRITOM sAHA'"
      ]
     },
     "execution_count": 25,
     "metadata": {},
     "output_type": "execute_result"
    }
   ],
   "source": [
    "name.swapcase() #reverse "
   ]
  },
  {
   "cell_type": "code",
   "execution_count": 26,
   "id": "32cce0d1",
   "metadata": {},
   "outputs": [
    {
     "data": {
      "text/plain": [
       "'Pritom Saha'"
      ]
     },
     "execution_count": 26,
     "metadata": {},
     "output_type": "execute_result"
    }
   ],
   "source": [
    "name.title()"
   ]
  },
  {
   "cell_type": "code",
   "execution_count": 27,
   "id": "804a8eef",
   "metadata": {},
   "outputs": [
    {
     "data": {
      "text/plain": [
       "False"
      ]
     },
     "execution_count": 27,
     "metadata": {},
     "output_type": "execute_result"
    }
   ],
   "source": [
    "name.islower()"
   ]
  },
  {
   "cell_type": "code",
   "execution_count": 28,
   "id": "3b0b00a5",
   "metadata": {},
   "outputs": [
    {
     "data": {
      "text/plain": [
       "False"
      ]
     },
     "execution_count": 28,
     "metadata": {},
     "output_type": "execute_result"
    }
   ],
   "source": [
    "name.isupper()"
   ]
  },
  {
   "cell_type": "code",
   "execution_count": 29,
   "id": "ab1f9f4b",
   "metadata": {},
   "outputs": [
    {
     "data": {
      "text/plain": [
       "False"
      ]
     },
     "execution_count": 29,
     "metadata": {},
     "output_type": "execute_result"
    }
   ],
   "source": [
    "name.isdigit()"
   ]
  },
  {
   "cell_type": "code",
   "execution_count": 30,
   "id": "937db928",
   "metadata": {},
   "outputs": [
    {
     "data": {
      "text/plain": [
       "b'Pritom Saha'"
      ]
     },
     "execution_count": 30,
     "metadata": {},
     "output_type": "execute_result"
    }
   ],
   "source": [
    "name.encode()"
   ]
  },
  {
   "cell_type": "code",
   "execution_count": 31,
   "id": "788989b3",
   "metadata": {},
   "outputs": [
    {
     "data": {
      "text/plain": [
       "['Pritom', 'Saha']"
      ]
     },
     "execution_count": 31,
     "metadata": {},
     "output_type": "execute_result"
    }
   ],
   "source": [
    "name.split()"
   ]
  },
  {
   "cell_type": "code",
   "execution_count": 32,
   "id": "fdc77af1",
   "metadata": {},
   "outputs": [
    {
     "data": {
      "text/plain": [
       "'Pritom'"
      ]
     },
     "execution_count": 32,
     "metadata": {},
     "output_type": "execute_result"
    }
   ],
   "source": [
    "name.split()[0]"
   ]
  },
  {
   "cell_type": "code",
   "execution_count": 33,
   "id": "7a386fdc",
   "metadata": {},
   "outputs": [
    {
     "data": {
      "text/plain": [
       "'                                            Pritom Saha                                             '"
      ]
     },
     "execution_count": 33,
     "metadata": {},
     "output_type": "execute_result"
    }
   ],
   "source": [
    "name.center(100)"
   ]
  },
  {
   "cell_type": "code",
   "execution_count": 34,
   "id": "52f09f11",
   "metadata": {},
   "outputs": [
    {
     "data": {
      "text/plain": [
       "'Himel Saha'"
      ]
     },
     "execution_count": 34,
     "metadata": {},
     "output_type": "execute_result"
    }
   ],
   "source": [
    "name.replace('Pritom','Himel')"
   ]
  },
  {
   "cell_type": "markdown",
   "id": "379077d0",
   "metadata": {},
   "source": [
    "# accessing string character  "
   ]
  },
  {
   "cell_type": "code",
   "execution_count": 35,
   "id": "72d318a7",
   "metadata": {},
   "outputs": [
    {
     "data": {
      "text/plain": [
       "'a'"
      ]
     },
     "execution_count": 35,
     "metadata": {},
     "output_type": "execute_result"
    }
   ],
   "source": [
    "name[-1] #last character"
   ]
  },
  {
   "cell_type": "code",
   "execution_count": 36,
   "id": "c20ac2c6",
   "metadata": {},
   "outputs": [
    {
     "data": {
      "text/plain": [
       "'P'"
      ]
     },
     "execution_count": 36,
     "metadata": {},
     "output_type": "execute_result"
    }
   ],
   "source": [
    "name[0] #first character"
   ]
  },
  {
   "cell_type": "code",
   "execution_count": 37,
   "id": "8f3925e4",
   "metadata": {},
   "outputs": [
    {
     "data": {
      "text/plain": [
       "'Pritom'"
      ]
     },
     "execution_count": 37,
     "metadata": {},
     "output_type": "execute_result"
    }
   ],
   "source": [
    "name[:6]"
   ]
  },
  {
   "cell_type": "code",
   "execution_count": 38,
   "id": "b92ddc21",
   "metadata": {},
   "outputs": [],
   "source": [
    "f_name,l_name = 'Pritom','Saha'"
   ]
  },
  {
   "cell_type": "code",
   "execution_count": 39,
   "id": "dc18c0ab",
   "metadata": {},
   "outputs": [
    {
     "data": {
      "text/plain": [
       "'PritomSaha'"
      ]
     },
     "execution_count": 39,
     "metadata": {},
     "output_type": "execute_result"
    }
   ],
   "source": [
    "f_name + l_name #Concatenation of Two"
   ]
  },
  {
   "cell_type": "code",
   "execution_count": 40,
   "id": "22ea7176",
   "metadata": {},
   "outputs": [
    {
     "data": {
      "text/plain": [
       "'Pritom'"
      ]
     },
     "execution_count": 40,
     "metadata": {},
     "output_type": "execute_result"
    }
   ],
   "source": [
    "f_name"
   ]
  },
  {
   "cell_type": "code",
   "execution_count": 41,
   "id": "08e8696f",
   "metadata": {},
   "outputs": [
    {
     "data": {
      "text/plain": [
       "True"
      ]
     },
     "execution_count": 41,
     "metadata": {},
     "output_type": "execute_result"
    }
   ],
   "source": [
    "'a' not in f_name"
   ]
  },
  {
   "cell_type": "code",
   "execution_count": 42,
   "id": "42090ae7",
   "metadata": {},
   "outputs": [
    {
     "data": {
      "text/plain": [
       "True"
      ]
     },
     "execution_count": 42,
     "metadata": {},
     "output_type": "execute_result"
    }
   ],
   "source": [
    "'P' in f_name"
   ]
  },
  {
   "cell_type": "code",
   "execution_count": 43,
   "id": "e9926ab2",
   "metadata": {},
   "outputs": [
    {
     "data": {
      "text/plain": [
       "[(0, 'P'), (1, 'r'), (2, 'i'), (3, 't'), (4, 'o'), (5, 'm')]"
      ]
     },
     "execution_count": 43,
     "metadata": {},
     "output_type": "execute_result"
    }
   ],
   "source": [
    "list(enumerate(f_name)) #enumerate() function returns an enumerate object. It contains the index and value of all the items in the string as pairs"
   ]
  },
  {
   "cell_type": "markdown",
   "id": "0c9f875a",
   "metadata": {},
   "source": [
    "#  String format method"
   ]
  },
  {
   "cell_type": "code",
   "execution_count": 44,
   "id": "c00ec913",
   "metadata": {},
   "outputs": [
    {
     "name": "stdout",
     "output_type": "stream",
     "text": [
      "Pritom, Himel and Saha\n",
      "Himel, Saha and Pritom\n",
      "Saha, Himel and Pritom\n"
     ]
    }
   ],
   "source": [
    "# default(implicit) order\n",
    "name = \"{}, {} and {}\".format('Pritom','Himel','Saha')\n",
    "print(name)\n",
    "\n",
    "# order using positional argument\n",
    "name = \"{1}, {2} and {0}\".format('Pritom','Himel','Saha')\n",
    "print(name)\n",
    "# order using keyword argument\n",
    "name = \"{x}, {y} and {p}\".format(p='Pritom',y='Himel',x='Saha')\n",
    "print(name)"
   ]
  },
  {
   "cell_type": "markdown",
   "id": "0af46869",
   "metadata": {},
   "source": [
    "#  Data Type in Python "
   ]
  },
  {
   "cell_type": "code",
   "execution_count": 47,
   "id": "5406213d",
   "metadata": {},
   "outputs": [
    {
     "name": "stdout",
     "output_type": "stream",
     "text": [
      "<class 'int'>\n",
      "<class 'float'>\n",
      "<class 'complex'>\n"
     ]
    }
   ],
   "source": [
    "a = 5 #integer\n",
    "print(type(a))\n",
    "b = 5.0 #float\n",
    "print(type(b))\n",
    "c = 2 + 4j #complex\n",
    "print(type(c))"
   ]
  },
  {
   "cell_type": "code",
   "execution_count": 48,
   "id": "2cdae9db",
   "metadata": {},
   "outputs": [
    {
     "data": {
      "text/plain": [
       "True"
      ]
     },
     "execution_count": 48,
     "metadata": {},
     "output_type": "execute_result"
    }
   ],
   "source": [
    "isinstance(b,float)"
   ]
  },
  {
   "cell_type": "markdown",
   "id": "882ce290",
   "metadata": {},
   "source": [
    "#  Type Casting"
   ]
  },
  {
   "cell_type": "code",
   "execution_count": 49,
   "id": "89c3abe3",
   "metadata": {},
   "outputs": [
    {
     "data": {
      "text/plain": [
       "float"
      ]
     },
     "execution_count": 49,
     "metadata": {},
     "output_type": "execute_result"
    }
   ],
   "source": [
    "d = float(a)\n",
    "type(d)"
   ]
  },
  {
   "cell_type": "code",
   "execution_count": 50,
   "id": "77a5cf7c",
   "metadata": {},
   "outputs": [],
   "source": [
    "e = complex (a)"
   ]
  },
  {
   "cell_type": "code",
   "execution_count": 51,
   "id": "4b91708e",
   "metadata": {},
   "outputs": [
    {
     "data": {
      "text/plain": [
       "(5+0j)"
      ]
     },
     "execution_count": 51,
     "metadata": {},
     "output_type": "execute_result"
    }
   ],
   "source": [
    "e"
   ]
  },
  {
   "cell_type": "code",
   "execution_count": 52,
   "id": "370f9fe5",
   "metadata": {},
   "outputs": [
    {
     "data": {
      "text/plain": [
       "complex"
      ]
     },
     "execution_count": 52,
     "metadata": {},
     "output_type": "execute_result"
    }
   ],
   "source": [
    "type(e)"
   ]
  },
  {
   "cell_type": "code",
   "execution_count": 53,
   "id": "060b5a2f",
   "metadata": {},
   "outputs": [],
   "source": [
    "#bool\n",
    "x= True\n",
    "y = False"
   ]
  },
  {
   "cell_type": "code",
   "execution_count": 55,
   "id": "72c5be53",
   "metadata": {},
   "outputs": [
    {
     "data": {
      "text/plain": [
       "bool"
      ]
     },
     "execution_count": 55,
     "metadata": {},
     "output_type": "execute_result"
    }
   ],
   "source": [
    "type (x)"
   ]
  },
  {
   "cell_type": "markdown",
   "id": "c387f42d",
   "metadata": {},
   "source": [
    "#  Sequence Data\n",
    "\n",
    "## List, Tuples, Range, Arrays, Strings"
   ]
  },
  {
   "cell_type": "code",
   "execution_count": 56,
   "id": "47f1c671",
   "metadata": {},
   "outputs": [],
   "source": [
    "#list\n",
    "lst = [1,2,3,('Pritom','Saha')]"
   ]
  },
  {
   "cell_type": "code",
   "execution_count": 57,
   "id": "494eb1b2",
   "metadata": {},
   "outputs": [
    {
     "data": {
      "text/plain": [
       "[1, 2, 3, ('Pritom', 'Saha')]"
      ]
     },
     "execution_count": 57,
     "metadata": {},
     "output_type": "execute_result"
    }
   ],
   "source": [
    "lst"
   ]
  },
  {
   "cell_type": "code",
   "execution_count": 58,
   "id": "a31fc701",
   "metadata": {},
   "outputs": [
    {
     "data": {
      "text/plain": [
       "list"
      ]
     },
     "execution_count": 58,
     "metadata": {},
     "output_type": "execute_result"
    }
   ],
   "source": [
    "type(lst)"
   ]
  },
  {
   "cell_type": "code",
   "execution_count": 59,
   "id": "25c33f83",
   "metadata": {},
   "outputs": [
    {
     "name": "stdout",
     "output_type": "stream",
     "text": [
      "1\n",
      "('Pritom', 'Saha')\n"
     ]
    }
   ],
   "source": [
    "print(lst[0])\n",
    "print(lst[-1])"
   ]
  },
  {
   "cell_type": "code",
   "execution_count": 60,
   "id": "e77382f0",
   "metadata": {},
   "outputs": [
    {
     "data": {
      "text/plain": [
       "'Pritom'"
      ]
     },
     "execution_count": 60,
     "metadata": {},
     "output_type": "execute_result"
    }
   ],
   "source": [
    "lst[-1][0]"
   ]
  },
  {
   "cell_type": "code",
   "execution_count": 63,
   "id": "e8e6be9f",
   "metadata": {},
   "outputs": [
    {
     "data": {
      "text/plain": [
       "tuple"
      ]
     },
     "execution_count": 63,
     "metadata": {},
     "output_type": "execute_result"
    }
   ],
   "source": [
    "#tuple ()\n",
    "\n",
    "t = (1,2,3)\n",
    "type(t)"
   ]
  },
  {
   "cell_type": "code",
   "execution_count": 64,
   "id": "f2afdce3",
   "metadata": {},
   "outputs": [
    {
     "data": {
      "text/plain": [
       "(2, 3)"
      ]
     },
     "execution_count": 64,
     "metadata": {},
     "output_type": "execute_result"
    }
   ],
   "source": [
    "t[1:]"
   ]
  },
  {
   "cell_type": "code",
   "execution_count": 65,
   "id": "2f691b98",
   "metadata": {},
   "outputs": [
    {
     "data": {
      "text/plain": [
       "range(0, 10)"
      ]
     },
     "execution_count": 65,
     "metadata": {},
     "output_type": "execute_result"
    }
   ],
   "source": [
    "#Range \n",
    "i = range(10)\n",
    "i"
   ]
  },
  {
   "cell_type": "code",
   "execution_count": 68,
   "id": "7694fdb1",
   "metadata": {},
   "outputs": [
    {
     "name": "stdout",
     "output_type": "stream",
     "text": [
      "0\n",
      "1\n",
      "2\n",
      "3\n",
      "4\n",
      "5\n",
      "6\n",
      "7\n",
      "8\n",
      "9\n"
     ]
    }
   ],
   "source": [
    "for i in i:\n",
    "    print(i)"
   ]
  },
  {
   "cell_type": "code",
   "execution_count": 70,
   "id": "e1d14409",
   "metadata": {},
   "outputs": [
    {
     "name": "stdout",
     "output_type": "stream",
     "text": [
      "5\n",
      "7\n",
      "9\n"
     ]
    }
   ],
   "source": [
    "i = range(5,10,2)\n",
    "for i in i:\n",
    "    print(i)"
   ]
  },
  {
   "cell_type": "code",
   "execution_count": 73,
   "id": "1eb14a22",
   "metadata": {},
   "outputs": [],
   "source": [
    "#array\n",
    "import array as ar\n",
    "a = ar.array('i',[1,2,3])"
   ]
  },
  {
   "cell_type": "code",
   "execution_count": 75,
   "id": "e560c0ae",
   "metadata": {},
   "outputs": [
    {
     "data": {
      "text/plain": [
       "array('i', [1, 2, 3])"
      ]
     },
     "execution_count": 75,
     "metadata": {},
     "output_type": "execute_result"
    }
   ],
   "source": [
    "a"
   ]
  },
  {
   "cell_type": "code",
   "execution_count": 76,
   "id": "6775feba",
   "metadata": {},
   "outputs": [
    {
     "data": {
      "text/plain": [
       "array.array"
      ]
     },
     "execution_count": 76,
     "metadata": {},
     "output_type": "execute_result"
    }
   ],
   "source": [
    "type(a)"
   ]
  },
  {
   "cell_type": "code",
   "execution_count": 78,
   "id": "ccf8e324",
   "metadata": {},
   "outputs": [
    {
     "data": {
      "text/plain": [
       "set"
      ]
     },
     "execution_count": 78,
     "metadata": {},
     "output_type": "execute_result"
    }
   ],
   "source": [
    "#set\n",
    "set1 = {1,2,3,4,5}\n",
    "type(set1)"
   ]
  },
  {
   "cell_type": "code",
   "execution_count": 79,
   "id": "6aeaf989",
   "metadata": {},
   "outputs": [],
   "source": [
    "dic1 = {\n",
    "    'name' : 'Pritom',\n",
    "    'age'  : 24\n",
    "}"
   ]
  },
  {
   "cell_type": "code",
   "execution_count": 80,
   "id": "f3e928a2",
   "metadata": {},
   "outputs": [
    {
     "data": {
      "text/plain": [
       "{'name': 'Pritom', 'age': 24}"
      ]
     },
     "execution_count": 80,
     "metadata": {},
     "output_type": "execute_result"
    }
   ],
   "source": [
    "dic1"
   ]
  },
  {
   "cell_type": "code",
   "execution_count": 81,
   "id": "836b63b8",
   "metadata": {},
   "outputs": [
    {
     "data": {
      "text/plain": [
       "dict_keys(['name', 'age'])"
      ]
     },
     "execution_count": 81,
     "metadata": {},
     "output_type": "execute_result"
    }
   ],
   "source": [
    "dic1.keys()"
   ]
  },
  {
   "cell_type": "code",
   "execution_count": 82,
   "id": "2dabd7f5",
   "metadata": {},
   "outputs": [
    {
     "data": {
      "text/plain": [
       "dict_values(['Pritom', 24])"
      ]
     },
     "execution_count": 82,
     "metadata": {},
     "output_type": "execute_result"
    }
   ],
   "source": [
    "dic1.values()"
   ]
  },
  {
   "cell_type": "code",
   "execution_count": 89,
   "id": "be15637f",
   "metadata": {},
   "outputs": [],
   "source": [
    "#Binary Types\n",
    "byt = bytearray ('Pritom','utf-8')"
   ]
  },
  {
   "cell_type": "code",
   "execution_count": 90,
   "id": "484664f6",
   "metadata": {},
   "outputs": [
    {
     "data": {
      "text/plain": [
       "bytearray(b'Pritom')"
      ]
     },
     "execution_count": 90,
     "metadata": {},
     "output_type": "execute_result"
    }
   ],
   "source": [
    "byt"
   ]
  },
  {
   "cell_type": "code",
   "execution_count": 91,
   "id": "25c18bb5",
   "metadata": {},
   "outputs": [
    {
     "data": {
      "text/plain": [
       "<memory at 0x0000018AF5D31240>"
      ]
     },
     "execution_count": 91,
     "metadata": {},
     "output_type": "execute_result"
    }
   ],
   "source": [
    "memoryview(byt)"
   ]
  },
  {
   "cell_type": "code",
   "execution_count": 92,
   "id": "c3686a02",
   "metadata": {},
   "outputs": [
    {
     "data": {
      "text/plain": [
       "80"
      ]
     },
     "execution_count": 92,
     "metadata": {},
     "output_type": "execute_result"
    }
   ],
   "source": [
    "memoryview(byt)[0]"
   ]
  },
  {
   "cell_type": "markdown",
   "id": "1d311095",
   "metadata": {},
   "source": [
    "# Operators in Python\n",
    "### Arithmetic Operator (+, -, *, /, %, **, //)\n",
    "### Identiry Operator (is , is not)\n",
    "### Bitwise Operator ( &, | , ^, ~, <<, >>)\n",
    "### Comparison Operator (==, !=, >, <,  >=, <= )\n",
    "### Logical Operator ( and, or, not )\n",
    "### Assignment Operator (=, +=, -=, /=, %=, //=, &=, |= )"
   ]
  },
  {
   "cell_type": "code",
   "execution_count": 75,
   "id": "a0b2ae96",
   "metadata": {},
   "outputs": [],
   "source": [
    "#Arithmetic \n",
    "x=10\n",
    "y=3\n",
    "z=-5\n"
   ]
  },
  {
   "cell_type": "code",
   "execution_count": 76,
   "id": "1797d8f2",
   "metadata": {},
   "outputs": [
    {
     "name": "stdout",
     "output_type": "stream",
     "text": [
      "Addition       =  13\n",
      "Subtraction    =  7\n",
      "Multiplication =  30\n",
      "Division       =  3.3333333333333335\n"
     ]
    }
   ],
   "source": [
    "print(\"Addition       = \",x+y) # addition\n",
    "print(\"Subtraction    = \",x-y) # subtraction\n",
    "print(\"Multiplication = \",x*y) # multiplication\n",
    "print(\"Division       = \",x/y) #division"
   ]
  },
  {
   "cell_type": "code",
   "execution_count": 77,
   "id": "d6175769",
   "metadata": {},
   "outputs": [
    {
     "name": "stdout",
     "output_type": "stream",
     "text": [
      "10 Power 3  =  1000\n"
     ]
    }
   ],
   "source": [
    "#  Exponentiation\n",
    "\n",
    "print(\"{} Power {}  = \".format(x , y), x **y )"
   ]
  },
  {
   "cell_type": "code",
   "execution_count": 78,
   "id": "9c98a874",
   "metadata": {},
   "outputs": [
    {
     "data": {
      "text/plain": [
       "3"
      ]
     },
     "execution_count": 78,
     "metadata": {},
     "output_type": "execute_result"
    }
   ],
   "source": [
    "#floor division\n",
    "x//y"
   ]
  },
  {
   "cell_type": "code",
   "execution_count": 79,
   "id": "0e8d22f7",
   "metadata": {},
   "outputs": [
    {
     "data": {
      "text/plain": [
       "3"
      ]
     },
     "execution_count": 79,
     "metadata": {},
     "output_type": "execute_result"
    }
   ],
   "source": [
    "import math\n",
    "math.floor(x/y)"
   ]
  },
  {
   "cell_type": "code",
   "execution_count": 80,
   "id": "cdf2700b",
   "metadata": {},
   "outputs": [
    {
     "data": {
      "text/plain": [
       "4"
      ]
     },
     "execution_count": 80,
     "metadata": {},
     "output_type": "execute_result"
    }
   ],
   "source": [
    "math.ceil(x/y)"
   ]
  },
  {
   "cell_type": "markdown",
   "id": "1b8c708c",
   "metadata": {},
   "source": [
    "# Python Identity Operators "
   ]
  },
  {
   "cell_type": "code",
   "execution_count": 81,
   "id": "584e4b6c",
   "metadata": {},
   "outputs": [],
   "source": [
    "x1=1001\n",
    "x2 = x1\n",
    "y=5\n",
    "z=1001"
   ]
  },
  {
   "cell_type": "code",
   "execution_count": 82,
   "id": "1b76032e",
   "metadata": {},
   "outputs": [
    {
     "data": {
      "text/plain": [
       "False"
      ]
     },
     "execution_count": 82,
     "metadata": {},
     "output_type": "execute_result"
    }
   ],
   "source": [
    "x1 is y"
   ]
  },
  {
   "cell_type": "code",
   "execution_count": 83,
   "id": "890bad70",
   "metadata": {},
   "outputs": [
    {
     "data": {
      "text/plain": [
       "True"
      ]
     },
     "execution_count": 83,
     "metadata": {},
     "output_type": "execute_result"
    }
   ],
   "source": [
    "x1 is not y"
   ]
  },
  {
   "cell_type": "code",
   "execution_count": 84,
   "id": "76a106c6",
   "metadata": {},
   "outputs": [
    {
     "data": {
      "text/plain": [
       "False"
      ]
     },
     "execution_count": 84,
     "metadata": {},
     "output_type": "execute_result"
    }
   ],
   "source": [
    "x1 is z"
   ]
  },
  {
   "cell_type": "code",
   "execution_count": 85,
   "id": "759aa837",
   "metadata": {},
   "outputs": [
    {
     "data": {
      "text/plain": [
       "True"
      ]
     },
     "execution_count": 85,
     "metadata": {},
     "output_type": "execute_result"
    }
   ],
   "source": [
    "x1 is x2 "
   ]
  },
  {
   "cell_type": "code",
   "execution_count": 86,
   "id": "fb83179b",
   "metadata": {},
   "outputs": [
    {
     "data": {
      "text/plain": [
       "True"
      ]
     },
     "execution_count": 86,
     "metadata": {},
     "output_type": "execute_result"
    }
   ],
   "source": [
    "#membership operator\n",
    "\n",
    "lst={1,2,3,4,5,6,7,8,9,10}\n",
    "1 in lst"
   ]
  },
  {
   "cell_type": "code",
   "execution_count": 87,
   "id": "1f1627d5",
   "metadata": {},
   "outputs": [
    {
     "data": {
      "text/plain": [
       "False"
      ]
     },
     "execution_count": 87,
     "metadata": {},
     "output_type": "execute_result"
    }
   ],
   "source": [
    "11 in lst"
   ]
  },
  {
   "cell_type": "code",
   "execution_count": 88,
   "id": "b402ad78",
   "metadata": {},
   "outputs": [
    {
     "data": {
      "text/plain": [
       "True"
      ]
     },
     "execution_count": 88,
     "metadata": {},
     "output_type": "execute_result"
    }
   ],
   "source": [
    "11 not in lst"
   ]
  },
  {
   "cell_type": "code",
   "execution_count": 89,
   "id": "c670429a",
   "metadata": {},
   "outputs": [
    {
     "name": "stdout",
     "output_type": "stream",
     "text": [
      "AND Operator  0\n",
      "OR Operator  7\n",
      "XOR Operator  7\n",
      "Not Operator  -6\n",
      "ZEro Fill Left shift Operator  20\n",
      "Signed right shift Operator  1\n"
     ]
    }
   ],
   "source": [
    "# Bitwise Operator  ( &, | , ^, ~, <<, >>)\n",
    "\n",
    "x = 5 # 0101\n",
    "y = 2 # 0010\n",
    "print('AND Operator ', x & y)\n",
    "print('OR Operator ', x | y)\n",
    "print('XOR Operator ', x ^ y)\n",
    "print('Not Operator ', ~ x)\n",
    "print('ZEro Fill Left shift Operator ', x << y)\n",
    "print('Signed right shift Operator ', x >> y)"
   ]
  },
  {
   "cell_type": "code",
   "execution_count": 90,
   "id": "dfa11c9c",
   "metadata": {},
   "outputs": [
    {
     "name": "stdout",
     "output_type": "stream",
     "text": [
      "Or operator =  True\n",
      "AND operator =  False\n",
      "NOT operator =  True\n"
     ]
    }
   ],
   "source": [
    "# Logical operator\n",
    "x = 5 # 0101\n",
    "y = 2 # 0010\n",
    "print('Or operator = ',x>3 or y<5)\n",
    "print('AND operator = ',(x>3 and y<1))\n",
    "print('NOT operator = ',not(x>3 and y<1))"
   ]
  },
  {
   "cell_type": "markdown",
   "id": "faec3953",
   "metadata": {},
   "source": [
    "# Practice\n"
   ]
  },
  {
   "cell_type": "code",
   "execution_count": 97,
   "id": "10f1d7ac",
   "metadata": {},
   "outputs": [
    {
     "name": "stdout",
     "output_type": "stream",
     "text": [
      "Enter Length : 10\n",
      "Enter Breadth : 20\n",
      "Not Square\n"
     ]
    }
   ],
   "source": [
    "# question 1\n",
    "\n",
    "length = float(input('Enter Length : '))\n",
    "breadth = float(input('Enter Breadth : '))\n",
    "if length == breadth :\n",
    "    print('It is Square')\n",
    "else :\n",
    "    print('Not Square')\n"
   ]
  },
  {
   "cell_type": "code",
   "execution_count": 125,
   "id": "c495a52e",
   "metadata": {},
   "outputs": [
    {
     "name": "stdout",
     "output_type": "stream",
     "text": [
      "10\n",
      "20\n",
      "30\n",
      "30 This is Greatest\n"
     ]
    }
   ],
   "source": [
    "# Question 2\n",
    "num1 = int(input())\n",
    "num2= int(input())\n",
    "num3 = int(input())\n",
    "if num1>num2 and num1>num3:\n",
    "    print(\"{} This is Greatest\".format(num1))\n",
    "    \n",
    "elif num2>num1 and num2>num3:\n",
    "    print(\"{} This is Greatest\".format(num2))\n",
    "    \n",
    "else:\n",
    "    print(\"{} This is Greatest\".format(num3))\n",
    "    \n",
    "   "
   ]
  },
  {
   "cell_type": "code",
   "execution_count": 131,
   "id": "b45ff00a",
   "metadata": {},
   "outputs": [
    {
     "name": "stdout",
     "output_type": "stream",
     "text": [
      "You are old\n"
     ]
    }
   ],
   "source": [
    "# If, Elif, Else Conditional Statements in Python\n",
    "\n",
    "x=50\n",
    "y=15\n",
    "if x<y:\n",
    "    print('Your are child')\n",
    "\n",
    "    \n",
    "elif x>y and x<50:\n",
    "    print('Your are Adult')\n",
    "\n",
    "    \n",
    "else :\n",
    "    print('You are old')\n"
   ]
  },
  {
   "cell_type": "code",
   "execution_count": 132,
   "id": "37674edb",
   "metadata": {},
   "outputs": [
    {
     "data": {
      "image/png": "[encoded data removed]",
      "text/plain": [
       "<IPython.core.display.Image object>"
      ]
     },
     "execution_count": 132,
     "metadata": {},
     "output_type": "execute_result"
    }
   ],
   "source": [
    "from IPython.display import Image\n",
    "\n",
    "Image('question.png')"
   ]
  },
  {
   "cell_type": "code",
   "execution_count": 6,
   "id": "0558f098",
   "metadata": {},
   "outputs": [
    {
     "name": "stdout",
     "output_type": "stream",
     "text": [
      "Enter unit200\n",
      "Total Bill 500.0 Tk\n"
     ]
    }
   ],
   "source": [
    "amount=0.00\n",
    "bill = float(input('Enter unit'))\n",
    "if bill<=100:\n",
    "    amount = 0.00\n",
    "    \n",
    "elif bill>100 and bill<=200:\n",
    "    amount = (bill-100)*5\n",
    "    \n",
    "    \n",
    "elif bill>200:\n",
    "    amount = ((bill-200)*10) + 500\n",
    "\n",
    "    \n",
    "print(\"Total Bill\",amount,'Tk' )\n",
    "\n"
   ]
  },
  {
   "cell_type": "markdown",
   "id": "82d222c0",
   "metadata": {},
   "source": [
    "# Loop"
   ]
  },
  {
   "cell_type": "code",
   "execution_count": 56,
   "id": "fa1aad63",
   "metadata": {},
   "outputs": [
    {
     "name": "stdout",
     "output_type": "stream",
     "text": [
      "Saha 4\n",
      "Himel 5\n",
      "Pritom 6\n"
     ]
    }
   ],
   "source": [
    "# for loop\n",
    "name = {'Pritom','Himel','Saha'}\n",
    "for x in name:\n",
    "    print(x,len(x))"
   ]
  },
  {
   "cell_type": "code",
   "execution_count": 4,
   "id": "80b341e7",
   "metadata": {},
   "outputs": [
    {
     "name": "stdout",
     "output_type": "stream",
     "text": [
      "1\n",
      "2\n",
      "3\n",
      "4\n",
      "5\n",
      "6\n",
      "7\n",
      "8\n",
      "9\n",
      "10\n"
     ]
    }
   ],
   "source": [
    "'''\n",
    "While loop \n",
    "\n",
    "Syntax\n",
    "\n",
    "while expression:\n",
    "    statement(s)\n",
    "\n",
    "'''\n",
    "i=1\n",
    "while i<=10:\n",
    "    print(i)\n",
    "    i+=1"
   ]
  },
  {
   "cell_type": "code",
   "execution_count": 7,
   "id": "a1514941",
   "metadata": {},
   "outputs": [
    {
     "name": "stdout",
     "output_type": "stream",
     "text": [
      "P\n",
      "r\n",
      "i\n",
      "t\n",
      "o\n",
      "m\n"
     ]
    }
   ],
   "source": [
    "data = 'Pritom'\n",
    "i= 0\n",
    "while i<len(data):\n",
    "    print(data[i])\n",
    "    i+=1\n"
   ]
  },
  {
   "cell_type": "code",
   "execution_count": 11,
   "id": "0f9072ea",
   "metadata": {},
   "outputs": [
    {
     "name": "stdout",
     "output_type": "stream",
     "text": [
      "hello\n",
      "world\n"
     ]
    }
   ],
   "source": [
    "data='hello world'\n",
    "data = data.split()\n",
    "index=0\n",
    "while index <(len(data)):\n",
    "    \n",
    "    print(data[index])\n",
    "    index+=1"
   ]
  },
  {
   "cell_type": "code",
   "execution_count": 13,
   "id": "dfe06be7",
   "metadata": {},
   "outputs": [
    {
     "name": "stdout",
     "output_type": "stream",
     "text": [
      "15\n"
     ]
    }
   ],
   "source": [
    "data = [1,2,3,4,5]\n",
    "index = 0\n",
    "total = 0\n",
    "while index<len(data):\n",
    "    total+=data[index]\n",
    "    index+=1\n",
    "    \n",
    "print(total)"
   ]
  },
  {
   "cell_type": "code",
   "execution_count": null,
   "id": "9d3dfe1a",
   "metadata": {},
   "outputs": [],
   "source": [
    "#sum of prime number\n",
    "sum = 0\n",
    "number = range(10,1001)\n",
    "for i in number:\n",
    "    for b in range(2,i):\n",
    "        if (i%b==0):\n",
    "            break    \n",
    "    else :\n",
    "        print(i)\n",
    "        sum +=i\n",
    "\n",
    "        \n",
    "print(sum)"
   ]
  },
  {
   "cell_type": "code",
   "execution_count": 14,
   "id": "380bf69c",
   "metadata": {},
   "outputs": [
    {
     "name": "stdout",
     "output_type": "stream",
     "text": [
      "5\n",
      "Factorial of 5 is 120\n"
     ]
    }
   ],
   "source": [
    "# factorial\n",
    "x=1\n",
    "n=int(input())\n",
    "for i in range(1,n+1):\n",
    "    x= i*x\n",
    "print('Factorial of {} is {}'.format(n,x))\n",
    "   "
   ]
  },
  {
   "cell_type": "code",
   "execution_count": 27,
   "id": "b2fc4ff4",
   "metadata": {},
   "outputs": [
    {
     "name": "stdout",
     "output_type": "stream",
     "text": [
      "how many time you want to 5\n",
      "# \n",
      "\n",
      "# # \n",
      "\n",
      "# # # \n",
      "\n",
      "# # # # \n",
      "\n",
      "# # # # # \n",
      "\n"
     ]
    }
   ],
   "source": [
    "number = int(input('how many time you want to '))\n",
    "for i in range(1,n+1):\n",
    "    for x in range(1,i+1):\n",
    "        print(\"#\",end=\" \")\n",
    "        \n",
    "    print('\\n')"
   ]
  },
  {
   "cell_type": "code",
   "execution_count": 37,
   "id": "f41835a7",
   "metadata": {},
   "outputs": [
    {
     "name": "stdout",
     "output_type": "stream",
     "text": [
      "\n",
      "\n",
      "1 \n",
      "\n",
      "1 2 \n",
      "\n",
      "1 2 3 \n",
      "\n",
      "1 2 3 4 \n",
      "\n",
      "1 2 3 4 5 \n",
      "\n"
     ]
    }
   ],
   "source": [
    "number = [1,2,3,4,5]\n",
    "for i in range(len(number)+1):\n",
    "    for x in range(0,i):\n",
    "        print(number[x],end=\" \")\n",
    "        \n",
    "    print('\\n')"
   ]
  },
  {
   "cell_type": "code",
   "execution_count": 38,
   "id": "bb81f150",
   "metadata": {},
   "outputs": [
    {
     "name": "stdout",
     "output_type": "stream",
     "text": [
      "1 2 3 4 5 \n",
      "\n",
      "1 2 3 4 5 \n",
      "\n",
      "1 2 3 4 5 \n",
      "\n",
      "1 2 3 4 5 \n",
      "\n",
      "1 2 3 4 5 \n",
      "\n"
     ]
    }
   ],
   "source": [
    "number = [1,2,3,4,5]\n",
    "for i in range(len(number)):\n",
    "    for x in range(len(number)):\n",
    "        print(number[x],end=\" \")\n",
    "        \n",
    "    print('\\n')"
   ]
  }
 ],
 "metadata": {
  "kernelspec": {
   "display_name": "Python 3 (ipykernel)",
   "language": "python",
   "name": "python3"
  },
  "language_info": {
   "codemirror_mode": {
    "name": "ipython",
    "version": 3
   },
   "file_extension": ".py",
   "mimetype": "text/x-python",
   "name": "python",
   "nbconvert_exporter": "python",
   "pygments_lexer": "ipython3",
   "version": "3.10.8"
  }
 },
 "nbformat": 4,
 "nbformat_minor": 5
}
