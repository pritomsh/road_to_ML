{
 "cells": [
  {
   "cell_type": "code",
   "execution_count": 9,
   "id": "913a4884",
   "metadata": {},
   "outputs": [],
   "source": [
    "import numpy as np\n",
    "import pandas as pd\n",
    "import warnings as wr\n",
    "wr.filterwarnings('ignore')"
   ]
  },
  {
   "cell_type": "code",
   "execution_count": 10,
   "id": "6c66dd68",
   "metadata": {},
   "outputs": [],
   "source": [
    "df = pd.read_csv('supershops.csv') #load csv data set"
   ]
  },
  {
   "cell_type": "code",
   "execution_count": 11,
   "id": "881c6ca1",
   "metadata": {},
   "outputs": [
    {
     "data": {
      "text/html": [
       "<div>\n",
       "<style scoped>\n",
       "    .dataframe tbody tr th:only-of-type {\n",
       "        vertical-align: middle;\n",
       "    }\n",
       "\n",
       "    .dataframe tbody tr th {\n",
       "        vertical-align: top;\n",
       "    }\n",
       "\n",
       "    .dataframe thead th {\n",
       "        text-align: right;\n",
       "    }\n",
       "</style>\n",
       "<table border=\"1\" class=\"dataframe\">\n",
       "  <thead>\n",
       "    <tr style=\"text-align: right;\">\n",
       "      <th></th>\n",
       "      <th>Marketing Spend</th>\n",
       "      <th>Administration</th>\n",
       "      <th>Transport</th>\n",
       "      <th>Area</th>\n",
       "      <th>Profit</th>\n",
       "    </tr>\n",
       "  </thead>\n",
       "  <tbody>\n",
       "    <tr>\n",
       "      <th>0</th>\n",
       "      <td>114523.61</td>\n",
       "      <td>136897.80</td>\n",
       "      <td>471784.10</td>\n",
       "      <td>Dhaka</td>\n",
       "      <td>192261.83</td>\n",
       "    </tr>\n",
       "    <tr>\n",
       "      <th>1</th>\n",
       "      <td>162597.70</td>\n",
       "      <td>151377.59</td>\n",
       "      <td>443898.53</td>\n",
       "      <td>Ctg</td>\n",
       "      <td>191792.06</td>\n",
       "    </tr>\n",
       "    <tr>\n",
       "      <th>2</th>\n",
       "      <td>153441.51</td>\n",
       "      <td>101145.55</td>\n",
       "      <td>407934.54</td>\n",
       "      <td>Rangpur</td>\n",
       "      <td>191050.39</td>\n",
       "    </tr>\n",
       "    <tr>\n",
       "      <th>3</th>\n",
       "      <td>144372.41</td>\n",
       "      <td>118671.85</td>\n",
       "      <td>383199.62</td>\n",
       "      <td>Dhaka</td>\n",
       "      <td>182901.99</td>\n",
       "    </tr>\n",
       "    <tr>\n",
       "      <th>4</th>\n",
       "      <td>142107.34</td>\n",
       "      <td>91391.77</td>\n",
       "      <td>366168.42</td>\n",
       "      <td>Rangpur</td>\n",
       "      <td>166187.94</td>\n",
       "    </tr>\n",
       "  </tbody>\n",
       "</table>\n",
       "</div>"
      ],
      "text/plain": [
       "   Marketing Spend  Administration  Transport     Area     Profit\n",
       "0        114523.61       136897.80  471784.10    Dhaka  192261.83\n",
       "1        162597.70       151377.59  443898.53      Ctg  191792.06\n",
       "2        153441.51       101145.55  407934.54  Rangpur  191050.39\n",
       "3        144372.41       118671.85  383199.62    Dhaka  182901.99\n",
       "4        142107.34        91391.77  366168.42  Rangpur  166187.94"
      ]
     },
     "execution_count": 11,
     "metadata": {},
     "output_type": "execute_result"
    }
   ],
   "source": [
    "df.head()"
   ]
  },
  {
   "cell_type": "code",
   "execution_count": 12,
   "id": "fbdabbaf",
   "metadata": {},
   "outputs": [
    {
     "name": "stdout",
     "output_type": "stream",
     "text": [
      "<class 'pandas.core.frame.DataFrame'>\n",
      "RangeIndex: 50 entries, 0 to 49\n",
      "Data columns (total 5 columns):\n",
      " #   Column           Non-Null Count  Dtype  \n",
      "---  ------           --------------  -----  \n",
      " 0   Marketing Spend  50 non-null     float64\n",
      " 1   Administration   50 non-null     float64\n",
      " 2   Transport        49 non-null     float64\n",
      " 3   Area             50 non-null     object \n",
      " 4   Profit           50 non-null     float64\n",
      "dtypes: float64(4), object(1)\n",
      "memory usage: 2.1+ KB\n"
     ]
    }
   ],
   "source": [
    "df.info()"
   ]
  },
  {
   "cell_type": "code",
   "execution_count": 13,
   "id": "a9a0c95d",
   "metadata": {},
   "outputs": [],
   "source": [
    "x = df.drop('Profit', axis=1) # drop target variable / 1 for column"
   ]
  },
  {
   "cell_type": "code",
   "execution_count": 14,
   "id": "0df08d55",
   "metadata": {},
   "outputs": [
    {
     "data": {
      "text/html": [
       "<div>\n",
       "<style scoped>\n",
       "    .dataframe tbody tr th:only-of-type {\n",
       "        vertical-align: middle;\n",
       "    }\n",
       "\n",
       "    .dataframe tbody tr th {\n",
       "        vertical-align: top;\n",
       "    }\n",
       "\n",
       "    .dataframe thead th {\n",
       "        text-align: right;\n",
       "    }\n",
       "</style>\n",
       "<table border=\"1\" class=\"dataframe\">\n",
       "  <thead>\n",
       "    <tr style=\"text-align: right;\">\n",
       "      <th></th>\n",
       "      <th>Marketing Spend</th>\n",
       "      <th>Administration</th>\n",
       "      <th>Transport</th>\n",
       "      <th>Area</th>\n",
       "    </tr>\n",
       "  </thead>\n",
       "  <tbody>\n",
       "    <tr>\n",
       "      <th>0</th>\n",
       "      <td>114523.61</td>\n",
       "      <td>136897.80</td>\n",
       "      <td>471784.10</td>\n",
       "      <td>Dhaka</td>\n",
       "    </tr>\n",
       "    <tr>\n",
       "      <th>1</th>\n",
       "      <td>162597.70</td>\n",
       "      <td>151377.59</td>\n",
       "      <td>443898.53</td>\n",
       "      <td>Ctg</td>\n",
       "    </tr>\n",
       "    <tr>\n",
       "      <th>2</th>\n",
       "      <td>153441.51</td>\n",
       "      <td>101145.55</td>\n",
       "      <td>407934.54</td>\n",
       "      <td>Rangpur</td>\n",
       "    </tr>\n",
       "    <tr>\n",
       "      <th>3</th>\n",
       "      <td>144372.41</td>\n",
       "      <td>118671.85</td>\n",
       "      <td>383199.62</td>\n",
       "      <td>Dhaka</td>\n",
       "    </tr>\n",
       "    <tr>\n",
       "      <th>4</th>\n",
       "      <td>142107.34</td>\n",
       "      <td>91391.77</td>\n",
       "      <td>366168.42</td>\n",
       "      <td>Rangpur</td>\n",
       "    </tr>\n",
       "  </tbody>\n",
       "</table>\n",
       "</div>"
      ],
      "text/plain": [
       "   Marketing Spend  Administration  Transport     Area\n",
       "0        114523.61       136897.80  471784.10    Dhaka\n",
       "1        162597.70       151377.59  443898.53      Ctg\n",
       "2        153441.51       101145.55  407934.54  Rangpur\n",
       "3        144372.41       118671.85  383199.62    Dhaka\n",
       "4        142107.34        91391.77  366168.42  Rangpur"
      ]
     },
     "execution_count": 14,
     "metadata": {},
     "output_type": "execute_result"
    }
   ],
   "source": [
    "x.head()"
   ]
  },
  {
   "cell_type": "code",
   "execution_count": 15,
   "id": "0bd73c63",
   "metadata": {},
   "outputs": [],
   "source": [
    "y = df['Profit']"
   ]
  },
  {
   "cell_type": "code",
   "execution_count": 16,
   "id": "37ed01f7",
   "metadata": {},
   "outputs": [
    {
     "data": {
      "text/plain": [
       "0    192261.83\n",
       "1    191792.06\n",
       "2    191050.39\n",
       "3    182901.99\n",
       "4    166187.94\n",
       "Name: Profit, dtype: float64"
      ]
     },
     "execution_count": 16,
     "metadata": {},
     "output_type": "execute_result"
    }
   ],
   "source": [
    "y.head()"
   ]
  },
  {
   "cell_type": "markdown",
   "id": "8668a51b",
   "metadata": {},
   "source": [
    "# Standard Scaler"
   ]
  },
  {
   "cell_type": "code",
   "execution_count": 18,
   "id": "0afaab23",
   "metadata": {},
   "outputs": [],
   "source": [
    "#import standardscaler library \n",
    "from sklearn.preprocessing import StandardScaler\n",
    "std = StandardScaler()"
   ]
  },
  {
   "cell_type": "code",
   "execution_count": 20,
   "id": "1960ff50",
   "metadata": {},
   "outputs": [],
   "source": [
    "#transformation only feature , don't transform Y variable means target variable\n",
    "df_ad = std.fit(df[['Administration']])"
   ]
  },
  {
   "cell_type": "code",
   "execution_count": 21,
   "id": "2c4fd3b2",
   "metadata": {},
   "outputs": [
    {
     "data": {
      "text/plain": [
       "StandardScaler()"
      ]
     },
     "execution_count": 21,
     "metadata": {},
     "output_type": "execute_result"
    }
   ],
   "source": [
    "df_ad"
   ]
  },
  {
   "cell_type": "code",
   "execution_count": 22,
   "id": "a057a5ad",
   "metadata": {},
   "outputs": [
    {
     "data": {
      "text/html": [
       "<div>\n",
       "<style scoped>\n",
       "    .dataframe tbody tr th:only-of-type {\n",
       "        vertical-align: middle;\n",
       "    }\n",
       "\n",
       "    .dataframe tbody tr th {\n",
       "        vertical-align: top;\n",
       "    }\n",
       "\n",
       "    .dataframe thead th {\n",
       "        text-align: right;\n",
       "    }\n",
       "</style>\n",
       "<table border=\"1\" class=\"dataframe\">\n",
       "  <thead>\n",
       "    <tr style=\"text-align: right;\">\n",
       "      <th></th>\n",
       "      <th>Marketing Spend</th>\n",
       "      <th>Administration</th>\n",
       "      <th>Transport</th>\n",
       "      <th>Area</th>\n",
       "    </tr>\n",
       "  </thead>\n",
       "  <tbody>\n",
       "    <tr>\n",
       "      <th>0</th>\n",
       "      <td>114523.61</td>\n",
       "      <td>136897.80</td>\n",
       "      <td>471784.10</td>\n",
       "      <td>Dhaka</td>\n",
       "    </tr>\n",
       "    <tr>\n",
       "      <th>1</th>\n",
       "      <td>162597.70</td>\n",
       "      <td>151377.59</td>\n",
       "      <td>443898.53</td>\n",
       "      <td>Ctg</td>\n",
       "    </tr>\n",
       "    <tr>\n",
       "      <th>2</th>\n",
       "      <td>153441.51</td>\n",
       "      <td>101145.55</td>\n",
       "      <td>407934.54</td>\n",
       "      <td>Rangpur</td>\n",
       "    </tr>\n",
       "    <tr>\n",
       "      <th>3</th>\n",
       "      <td>144372.41</td>\n",
       "      <td>118671.85</td>\n",
       "      <td>383199.62</td>\n",
       "      <td>Dhaka</td>\n",
       "    </tr>\n",
       "    <tr>\n",
       "      <th>4</th>\n",
       "      <td>142107.34</td>\n",
       "      <td>91391.77</td>\n",
       "      <td>366168.42</td>\n",
       "      <td>Rangpur</td>\n",
       "    </tr>\n",
       "  </tbody>\n",
       "</table>\n",
       "</div>"
      ],
      "text/plain": [
       "   Marketing Spend  Administration  Transport     Area\n",
       "0        114523.61       136897.80  471784.10    Dhaka\n",
       "1        162597.70       151377.59  443898.53      Ctg\n",
       "2        153441.51       101145.55  407934.54  Rangpur\n",
       "3        144372.41       118671.85  383199.62    Dhaka\n",
       "4        142107.34        91391.77  366168.42  Rangpur"
      ]
     },
     "execution_count": 22,
     "metadata": {},
     "output_type": "execute_result"
    }
   ],
   "source": [
    "x.head()"
   ]
  },
  {
   "cell_type": "code",
   "execution_count": 23,
   "id": "04764131",
   "metadata": {},
   "outputs": [],
   "source": [
    "df.Administration = std.transform(df[['Administration']])"
   ]
  },
  {
   "cell_type": "code",
   "execution_count": 24,
   "id": "38f20976",
   "metadata": {},
   "outputs": [
    {
     "data": {
      "text/html": [
       "<div>\n",
       "<style scoped>\n",
       "    .dataframe tbody tr th:only-of-type {\n",
       "        vertical-align: middle;\n",
       "    }\n",
       "\n",
       "    .dataframe tbody tr th {\n",
       "        vertical-align: top;\n",
       "    }\n",
       "\n",
       "    .dataframe thead th {\n",
       "        text-align: right;\n",
       "    }\n",
       "</style>\n",
       "<table border=\"1\" class=\"dataframe\">\n",
       "  <thead>\n",
       "    <tr style=\"text-align: right;\">\n",
       "      <th></th>\n",
       "      <th>Marketing Spend</th>\n",
       "      <th>Administration</th>\n",
       "      <th>Transport</th>\n",
       "      <th>Area</th>\n",
       "      <th>Profit</th>\n",
       "    </tr>\n",
       "  </thead>\n",
       "  <tbody>\n",
       "    <tr>\n",
       "      <th>0</th>\n",
       "      <td>114523.61</td>\n",
       "      <td>0.560753</td>\n",
       "      <td>471784.10</td>\n",
       "      <td>Dhaka</td>\n",
       "      <td>192261.83</td>\n",
       "    </tr>\n",
       "    <tr>\n",
       "      <th>1</th>\n",
       "      <td>162597.70</td>\n",
       "      <td>1.082807</td>\n",
       "      <td>443898.53</td>\n",
       "      <td>Ctg</td>\n",
       "      <td>191792.06</td>\n",
       "    </tr>\n",
       "    <tr>\n",
       "      <th>2</th>\n",
       "      <td>153441.51</td>\n",
       "      <td>-0.728257</td>\n",
       "      <td>407934.54</td>\n",
       "      <td>Rangpur</td>\n",
       "      <td>191050.39</td>\n",
       "    </tr>\n",
       "    <tr>\n",
       "      <th>3</th>\n",
       "      <td>144372.41</td>\n",
       "      <td>-0.096365</td>\n",
       "      <td>383199.62</td>\n",
       "      <td>Dhaka</td>\n",
       "      <td>182901.99</td>\n",
       "    </tr>\n",
       "    <tr>\n",
       "      <th>4</th>\n",
       "      <td>142107.34</td>\n",
       "      <td>-1.079919</td>\n",
       "      <td>366168.42</td>\n",
       "      <td>Rangpur</td>\n",
       "      <td>166187.94</td>\n",
       "    </tr>\n",
       "  </tbody>\n",
       "</table>\n",
       "</div>"
      ],
      "text/plain": [
       "   Marketing Spend  Administration  Transport     Area     Profit\n",
       "0        114523.61        0.560753  471784.10    Dhaka  192261.83\n",
       "1        162597.70        1.082807  443898.53      Ctg  191792.06\n",
       "2        153441.51       -0.728257  407934.54  Rangpur  191050.39\n",
       "3        144372.41       -0.096365  383199.62    Dhaka  182901.99\n",
       "4        142107.34       -1.079919  366168.42  Rangpur  166187.94"
      ]
     },
     "execution_count": 24,
     "metadata": {},
     "output_type": "execute_result"
    }
   ],
   "source": [
    "df.head()"
   ]
  },
  {
   "cell_type": "code",
   "execution_count": 25,
   "id": "477baf38",
   "metadata": {},
   "outputs": [],
   "source": [
    "df.Transport = std.fit_transform(df[['Transport']])"
   ]
  },
  {
   "cell_type": "code",
   "execution_count": 26,
   "id": "84a0e7e4",
   "metadata": {},
   "outputs": [
    {
     "data": {
      "text/html": [
       "<div>\n",
       "<style scoped>\n",
       "    .dataframe tbody tr th:only-of-type {\n",
       "        vertical-align: middle;\n",
       "    }\n",
       "\n",
       "    .dataframe tbody tr th {\n",
       "        vertical-align: top;\n",
       "    }\n",
       "\n",
       "    .dataframe thead th {\n",
       "        text-align: right;\n",
       "    }\n",
       "</style>\n",
       "<table border=\"1\" class=\"dataframe\">\n",
       "  <thead>\n",
       "    <tr style=\"text-align: right;\">\n",
       "      <th></th>\n",
       "      <th>Marketing Spend</th>\n",
       "      <th>Administration</th>\n",
       "      <th>Transport</th>\n",
       "      <th>Area</th>\n",
       "      <th>Profit</th>\n",
       "    </tr>\n",
       "  </thead>\n",
       "  <tbody>\n",
       "    <tr>\n",
       "      <th>0</th>\n",
       "      <td>114523.61</td>\n",
       "      <td>0.560753</td>\n",
       "      <td>2.165287</td>\n",
       "      <td>Dhaka</td>\n",
       "      <td>192261.83</td>\n",
       "    </tr>\n",
       "    <tr>\n",
       "      <th>1</th>\n",
       "      <td>162597.70</td>\n",
       "      <td>1.082807</td>\n",
       "      <td>1.929843</td>\n",
       "      <td>Ctg</td>\n",
       "      <td>191792.06</td>\n",
       "    </tr>\n",
       "    <tr>\n",
       "      <th>2</th>\n",
       "      <td>153441.51</td>\n",
       "      <td>-0.728257</td>\n",
       "      <td>1.626191</td>\n",
       "      <td>Rangpur</td>\n",
       "      <td>191050.39</td>\n",
       "    </tr>\n",
       "    <tr>\n",
       "      <th>3</th>\n",
       "      <td>144372.41</td>\n",
       "      <td>-0.096365</td>\n",
       "      <td>1.417348</td>\n",
       "      <td>Dhaka</td>\n",
       "      <td>182901.99</td>\n",
       "    </tr>\n",
       "    <tr>\n",
       "      <th>4</th>\n",
       "      <td>142107.34</td>\n",
       "      <td>-1.079919</td>\n",
       "      <td>1.273550</td>\n",
       "      <td>Rangpur</td>\n",
       "      <td>166187.94</td>\n",
       "    </tr>\n",
       "  </tbody>\n",
       "</table>\n",
       "</div>"
      ],
      "text/plain": [
       "   Marketing Spend  Administration  Transport     Area     Profit\n",
       "0        114523.61        0.560753   2.165287    Dhaka  192261.83\n",
       "1        162597.70        1.082807   1.929843      Ctg  191792.06\n",
       "2        153441.51       -0.728257   1.626191  Rangpur  191050.39\n",
       "3        144372.41       -0.096365   1.417348    Dhaka  182901.99\n",
       "4        142107.34       -1.079919   1.273550  Rangpur  166187.94"
      ]
     },
     "execution_count": 26,
     "metadata": {},
     "output_type": "execute_result"
    }
   ],
   "source": [
    "df.head()"
   ]
  },
  {
   "cell_type": "markdown",
   "id": "b0a28987",
   "metadata": {},
   "source": [
    "# LOOP Standard Scaler"
   ]
  },
  {
   "cell_type": "code",
   "execution_count": 28,
   "id": "4bed42bf",
   "metadata": {
    "scrolled": true
   },
   "outputs": [
    {
     "name": "stdout",
     "output_type": "stream",
     "text": [
      "<class 'pandas.core.frame.DataFrame'>\n",
      "RangeIndex: 50 entries, 0 to 49\n",
      "Data columns (total 4 columns):\n",
      " #   Column           Non-Null Count  Dtype  \n",
      "---  ------           --------------  -----  \n",
      " 0   Marketing Spend  50 non-null     float64\n",
      " 1   Administration   50 non-null     float64\n",
      " 2   Transport        49 non-null     float64\n",
      " 3   Area             50 non-null     object \n",
      "dtypes: float64(3), object(1)\n",
      "memory usage: 1.7+ KB\n"
     ]
    }
   ],
   "source": [
    "x.info()"
   ]
  },
  {
   "cell_type": "code",
   "execution_count": 32,
   "id": "f3f0d790",
   "metadata": {},
   "outputs": [],
   "source": [
    "std = StandardScaler()\n",
    "\n",
    "for column in x.columns:\n",
    "    if  x.dtypes[column] != object:\n",
    "        x[column] = std.fit_transform(x[[column]])"
   ]
  },
  {
   "cell_type": "code",
   "execution_count": 33,
   "id": "746fb388",
   "metadata": {},
   "outputs": [
    {
     "data": {
      "text/html": [
       "<div>\n",
       "<style scoped>\n",
       "    .dataframe tbody tr th:only-of-type {\n",
       "        vertical-align: middle;\n",
       "    }\n",
       "\n",
       "    .dataframe tbody tr th {\n",
       "        vertical-align: top;\n",
       "    }\n",
       "\n",
       "    .dataframe thead th {\n",
       "        text-align: right;\n",
       "    }\n",
       "</style>\n",
       "<table border=\"1\" class=\"dataframe\">\n",
       "  <thead>\n",
       "    <tr style=\"text-align: right;\">\n",
       "      <th></th>\n",
       "      <th>Marketing Spend</th>\n",
       "      <th>Administration</th>\n",
       "      <th>Transport</th>\n",
       "      <th>Area</th>\n",
       "    </tr>\n",
       "  </thead>\n",
       "  <tbody>\n",
       "    <tr>\n",
       "      <th>0</th>\n",
       "      <td>0.897913</td>\n",
       "      <td>0.560753</td>\n",
       "      <td>2.165287</td>\n",
       "      <td>Dhaka</td>\n",
       "    </tr>\n",
       "    <tr>\n",
       "      <th>1</th>\n",
       "      <td>1.955860</td>\n",
       "      <td>1.082807</td>\n",
       "      <td>1.929843</td>\n",
       "      <td>Ctg</td>\n",
       "    </tr>\n",
       "    <tr>\n",
       "      <th>2</th>\n",
       "      <td>1.754364</td>\n",
       "      <td>-0.728257</td>\n",
       "      <td>1.626191</td>\n",
       "      <td>Rangpur</td>\n",
       "    </tr>\n",
       "    <tr>\n",
       "      <th>3</th>\n",
       "      <td>1.554784</td>\n",
       "      <td>-0.096365</td>\n",
       "      <td>1.417348</td>\n",
       "      <td>Dhaka</td>\n",
       "    </tr>\n",
       "    <tr>\n",
       "      <th>4</th>\n",
       "      <td>1.504937</td>\n",
       "      <td>-1.079919</td>\n",
       "      <td>1.273550</td>\n",
       "      <td>Rangpur</td>\n",
       "    </tr>\n",
       "  </tbody>\n",
       "</table>\n",
       "</div>"
      ],
      "text/plain": [
       "   Marketing Spend  Administration  Transport     Area\n",
       "0         0.897913        0.560753   2.165287    Dhaka\n",
       "1         1.955860        1.082807   1.929843      Ctg\n",
       "2         1.754364       -0.728257   1.626191  Rangpur\n",
       "3         1.554784       -0.096365   1.417348    Dhaka\n",
       "4         1.504937       -1.079919   1.273550  Rangpur"
      ]
     },
     "execution_count": 33,
     "metadata": {},
     "output_type": "execute_result"
    }
   ],
   "source": [
    "x.head()"
   ]
  },
  {
   "cell_type": "markdown",
   "id": "ef6c7eba",
   "metadata": {},
   "source": [
    "# MinMax Scaler\n"
   ]
  },
  {
   "cell_type": "code",
   "execution_count": 34,
   "id": "04954931",
   "metadata": {},
   "outputs": [],
   "source": [
    "from sklearn.preprocessing import MinMaxScaler\n",
    "\n",
    "min_max_scale = MinMaxScaler()\n",
    "df['Marketing Spend'] = min_max_scale.fit_transform(df[['Marketing Spend']])"
   ]
  },
  {
   "cell_type": "code",
   "execution_count": 35,
   "id": "47621a1c",
   "metadata": {},
   "outputs": [
    {
     "data": {
      "text/html": [
       "<div>\n",
       "<style scoped>\n",
       "    .dataframe tbody tr th:only-of-type {\n",
       "        vertical-align: middle;\n",
       "    }\n",
       "\n",
       "    .dataframe tbody tr th {\n",
       "        vertical-align: top;\n",
       "    }\n",
       "\n",
       "    .dataframe thead th {\n",
       "        text-align: right;\n",
       "    }\n",
       "</style>\n",
       "<table border=\"1\" class=\"dataframe\">\n",
       "  <thead>\n",
       "    <tr style=\"text-align: right;\">\n",
       "      <th></th>\n",
       "      <th>Marketing Spend</th>\n",
       "      <th>Administration</th>\n",
       "      <th>Transport</th>\n",
       "      <th>Area</th>\n",
       "      <th>Profit</th>\n",
       "    </tr>\n",
       "  </thead>\n",
       "  <tbody>\n",
       "    <tr>\n",
       "      <th>0</th>\n",
       "      <td>0.692617</td>\n",
       "      <td>0.560753</td>\n",
       "      <td>2.165287</td>\n",
       "      <td>Dhaka</td>\n",
       "      <td>192261.83</td>\n",
       "    </tr>\n",
       "    <tr>\n",
       "      <th>1</th>\n",
       "      <td>0.983359</td>\n",
       "      <td>1.082807</td>\n",
       "      <td>1.929843</td>\n",
       "      <td>Ctg</td>\n",
       "      <td>191792.06</td>\n",
       "    </tr>\n",
       "    <tr>\n",
       "      <th>2</th>\n",
       "      <td>0.927985</td>\n",
       "      <td>-0.728257</td>\n",
       "      <td>1.626191</td>\n",
       "      <td>Rangpur</td>\n",
       "      <td>191050.39</td>\n",
       "    </tr>\n",
       "    <tr>\n",
       "      <th>3</th>\n",
       "      <td>0.873136</td>\n",
       "      <td>-0.096365</td>\n",
       "      <td>1.417348</td>\n",
       "      <td>Dhaka</td>\n",
       "      <td>182901.99</td>\n",
       "    </tr>\n",
       "    <tr>\n",
       "      <th>4</th>\n",
       "      <td>0.859438</td>\n",
       "      <td>-1.079919</td>\n",
       "      <td>1.273550</td>\n",
       "      <td>Rangpur</td>\n",
       "      <td>166187.94</td>\n",
       "    </tr>\n",
       "  </tbody>\n",
       "</table>\n",
       "</div>"
      ],
      "text/plain": [
       "   Marketing Spend  Administration  Transport     Area     Profit\n",
       "0         0.692617        0.560753   2.165287    Dhaka  192261.83\n",
       "1         0.983359        1.082807   1.929843      Ctg  191792.06\n",
       "2         0.927985       -0.728257   1.626191  Rangpur  191050.39\n",
       "3         0.873136       -0.096365   1.417348    Dhaka  182901.99\n",
       "4         0.859438       -1.079919   1.273550  Rangpur  166187.94"
      ]
     },
     "execution_count": 35,
     "metadata": {},
     "output_type": "execute_result"
    }
   ],
   "source": [
    "df.head()"
   ]
  },
  {
   "cell_type": "code",
   "execution_count": 36,
   "id": "23c4a8a5",
   "metadata": {},
   "outputs": [],
   "source": [
    "#Max Abs Scaler"
   ]
  },
  {
   "cell_type": "code",
   "execution_count": 37,
   "id": "5d6d925e",
   "metadata": {},
   "outputs": [],
   "source": [
    "from sklearn.preprocessing import MaxAbsScaler\n",
    "\n",
    "max_abs_scale = MaxAbsScaler()\n",
    "df['Marketing Spend'] = max_abs_scale.fit_transform(df[['Marketing Spend']])"
   ]
  },
  {
   "cell_type": "code",
   "execution_count": 38,
   "id": "b3421841",
   "metadata": {},
   "outputs": [
    {
     "data": {
      "text/html": [
       "<div>\n",
       "<style scoped>\n",
       "    .dataframe tbody tr th:only-of-type {\n",
       "        vertical-align: middle;\n",
       "    }\n",
       "\n",
       "    .dataframe tbody tr th {\n",
       "        vertical-align: top;\n",
       "    }\n",
       "\n",
       "    .dataframe thead th {\n",
       "        text-align: right;\n",
       "    }\n",
       "</style>\n",
       "<table border=\"1\" class=\"dataframe\">\n",
       "  <thead>\n",
       "    <tr style=\"text-align: right;\">\n",
       "      <th></th>\n",
       "      <th>Marketing Spend</th>\n",
       "      <th>Administration</th>\n",
       "      <th>Transport</th>\n",
       "      <th>Area</th>\n",
       "      <th>Profit</th>\n",
       "    </tr>\n",
       "  </thead>\n",
       "  <tbody>\n",
       "    <tr>\n",
       "      <th>0</th>\n",
       "      <td>0.692617</td>\n",
       "      <td>0.560753</td>\n",
       "      <td>2.165287</td>\n",
       "      <td>Dhaka</td>\n",
       "      <td>192261.83</td>\n",
       "    </tr>\n",
       "    <tr>\n",
       "      <th>1</th>\n",
       "      <td>0.983359</td>\n",
       "      <td>1.082807</td>\n",
       "      <td>1.929843</td>\n",
       "      <td>Ctg</td>\n",
       "      <td>191792.06</td>\n",
       "    </tr>\n",
       "    <tr>\n",
       "      <th>2</th>\n",
       "      <td>0.927985</td>\n",
       "      <td>-0.728257</td>\n",
       "      <td>1.626191</td>\n",
       "      <td>Rangpur</td>\n",
       "      <td>191050.39</td>\n",
       "    </tr>\n",
       "    <tr>\n",
       "      <th>3</th>\n",
       "      <td>0.873136</td>\n",
       "      <td>-0.096365</td>\n",
       "      <td>1.417348</td>\n",
       "      <td>Dhaka</td>\n",
       "      <td>182901.99</td>\n",
       "    </tr>\n",
       "    <tr>\n",
       "      <th>4</th>\n",
       "      <td>0.859438</td>\n",
       "      <td>-1.079919</td>\n",
       "      <td>1.273550</td>\n",
       "      <td>Rangpur</td>\n",
       "      <td>166187.94</td>\n",
       "    </tr>\n",
       "  </tbody>\n",
       "</table>\n",
       "</div>"
      ],
      "text/plain": [
       "   Marketing Spend  Administration  Transport     Area     Profit\n",
       "0         0.692617        0.560753   2.165287    Dhaka  192261.83\n",
       "1         0.983359        1.082807   1.929843      Ctg  191792.06\n",
       "2         0.927985       -0.728257   1.626191  Rangpur  191050.39\n",
       "3         0.873136       -0.096365   1.417348    Dhaka  182901.99\n",
       "4         0.859438       -1.079919   1.273550  Rangpur  166187.94"
      ]
     },
     "execution_count": 38,
     "metadata": {},
     "output_type": "execute_result"
    }
   ],
   "source": [
    "df.head()"
   ]
  },
  {
   "cell_type": "markdown",
   "id": "aff7a342",
   "metadata": {},
   "source": [
    "# Robus Scaler"
   ]
  },
  {
   "cell_type": "code",
   "execution_count": 39,
   "id": "b4ac4e4c",
   "metadata": {},
   "outputs": [],
   "source": [
    "from sklearn.preprocessing import RobustScaler"
   ]
  },
  {
   "cell_type": "code",
   "execution_count": 40,
   "id": "42358c80",
   "metadata": {},
   "outputs": [],
   "source": [
    "robust_Scaler = RobustScaler()"
   ]
  },
  {
   "cell_type": "code",
   "execution_count": 41,
   "id": "963b6b4b",
   "metadata": {},
   "outputs": [],
   "source": [
    "df['Marketing Spend'] = robust_Scaler.fit_transform(df[['Marketing Spend']])"
   ]
  },
  {
   "cell_type": "code",
   "execution_count": 42,
   "id": "0edbe194",
   "metadata": {},
   "outputs": [
    {
     "data": {
      "text/html": [
       "<div>\n",
       "<style scoped>\n",
       "    .dataframe tbody tr th:only-of-type {\n",
       "        vertical-align: middle;\n",
       "    }\n",
       "\n",
       "    .dataframe tbody tr th {\n",
       "        vertical-align: top;\n",
       "    }\n",
       "\n",
       "    .dataframe thead th {\n",
       "        text-align: right;\n",
       "    }\n",
       "</style>\n",
       "<table border=\"1\" class=\"dataframe\">\n",
       "  <thead>\n",
       "    <tr style=\"text-align: right;\">\n",
       "      <th></th>\n",
       "      <th>Marketing Spend</th>\n",
       "      <th>Administration</th>\n",
       "      <th>Transport</th>\n",
       "      <th>Area</th>\n",
       "      <th>Profit</th>\n",
       "    </tr>\n",
       "  </thead>\n",
       "  <tbody>\n",
       "    <tr>\n",
       "      <th>0</th>\n",
       "      <td>0.672530</td>\n",
       "      <td>0.560753</td>\n",
       "      <td>2.165287</td>\n",
       "      <td>Dhaka</td>\n",
       "      <td>192261.83</td>\n",
       "    </tr>\n",
       "    <tr>\n",
       "      <th>1</th>\n",
       "      <td>1.452113</td>\n",
       "      <td>1.082807</td>\n",
       "      <td>1.929843</td>\n",
       "      <td>Ctg</td>\n",
       "      <td>191792.06</td>\n",
       "    </tr>\n",
       "    <tr>\n",
       "      <th>2</th>\n",
       "      <td>1.303634</td>\n",
       "      <td>-0.728257</td>\n",
       "      <td>1.626191</td>\n",
       "      <td>Rangpur</td>\n",
       "      <td>191050.39</td>\n",
       "    </tr>\n",
       "    <tr>\n",
       "      <th>3</th>\n",
       "      <td>1.156567</td>\n",
       "      <td>-0.096365</td>\n",
       "      <td>1.417348</td>\n",
       "      <td>Dhaka</td>\n",
       "      <td>182901.99</td>\n",
       "    </tr>\n",
       "    <tr>\n",
       "      <th>4</th>\n",
       "      <td>1.119836</td>\n",
       "      <td>-1.079919</td>\n",
       "      <td>1.273550</td>\n",
       "      <td>Rangpur</td>\n",
       "      <td>166187.94</td>\n",
       "    </tr>\n",
       "  </tbody>\n",
       "</table>\n",
       "</div>"
      ],
      "text/plain": [
       "   Marketing Spend  Administration  Transport     Area     Profit\n",
       "0         0.672530        0.560753   2.165287    Dhaka  192261.83\n",
       "1         1.452113        1.082807   1.929843      Ctg  191792.06\n",
       "2         1.303634       -0.728257   1.626191  Rangpur  191050.39\n",
       "3         1.156567       -0.096365   1.417348    Dhaka  182901.99\n",
       "4         1.119836       -1.079919   1.273550  Rangpur  166187.94"
      ]
     },
     "execution_count": 42,
     "metadata": {},
     "output_type": "execute_result"
    }
   ],
   "source": [
    "df.head()"
   ]
  },
  {
   "cell_type": "markdown",
   "id": "d764a11e",
   "metadata": {},
   "source": [
    "# Loop "
   ]
  },
  {
   "cell_type": "code",
   "execution_count": 44,
   "id": "7da58ef8",
   "metadata": {},
   "outputs": [],
   "source": [
    "df = pd.read_csv('supershops.csv') #load csv data set"
   ]
  },
  {
   "cell_type": "code",
   "execution_count": 46,
   "id": "2a208981",
   "metadata": {},
   "outputs": [
    {
     "data": {
      "text/html": [
       "<div>\n",
       "<style scoped>\n",
       "    .dataframe tbody tr th:only-of-type {\n",
       "        vertical-align: middle;\n",
       "    }\n",
       "\n",
       "    .dataframe tbody tr th {\n",
       "        vertical-align: top;\n",
       "    }\n",
       "\n",
       "    .dataframe thead th {\n",
       "        text-align: right;\n",
       "    }\n",
       "</style>\n",
       "<table border=\"1\" class=\"dataframe\">\n",
       "  <thead>\n",
       "    <tr style=\"text-align: right;\">\n",
       "      <th></th>\n",
       "      <th>Marketing Spend</th>\n",
       "      <th>Administration</th>\n",
       "      <th>Transport</th>\n",
       "      <th>Area</th>\n",
       "      <th>Profit</th>\n",
       "    </tr>\n",
       "  </thead>\n",
       "  <tbody>\n",
       "    <tr>\n",
       "      <th>0</th>\n",
       "      <td>114523.61</td>\n",
       "      <td>136897.80</td>\n",
       "      <td>471784.10</td>\n",
       "      <td>Dhaka</td>\n",
       "      <td>192261.83</td>\n",
       "    </tr>\n",
       "    <tr>\n",
       "      <th>1</th>\n",
       "      <td>162597.70</td>\n",
       "      <td>151377.59</td>\n",
       "      <td>443898.53</td>\n",
       "      <td>Ctg</td>\n",
       "      <td>191792.06</td>\n",
       "    </tr>\n",
       "    <tr>\n",
       "      <th>2</th>\n",
       "      <td>153441.51</td>\n",
       "      <td>101145.55</td>\n",
       "      <td>407934.54</td>\n",
       "      <td>Rangpur</td>\n",
       "      <td>191050.39</td>\n",
       "    </tr>\n",
       "    <tr>\n",
       "      <th>3</th>\n",
       "      <td>144372.41</td>\n",
       "      <td>118671.85</td>\n",
       "      <td>383199.62</td>\n",
       "      <td>Dhaka</td>\n",
       "      <td>182901.99</td>\n",
       "    </tr>\n",
       "    <tr>\n",
       "      <th>4</th>\n",
       "      <td>142107.34</td>\n",
       "      <td>91391.77</td>\n",
       "      <td>366168.42</td>\n",
       "      <td>Rangpur</td>\n",
       "      <td>166187.94</td>\n",
       "    </tr>\n",
       "  </tbody>\n",
       "</table>\n",
       "</div>"
      ],
      "text/plain": [
       "   Marketing Spend  Administration  Transport     Area     Profit\n",
       "0        114523.61       136897.80  471784.10    Dhaka  192261.83\n",
       "1        162597.70       151377.59  443898.53      Ctg  191792.06\n",
       "2        153441.51       101145.55  407934.54  Rangpur  191050.39\n",
       "3        144372.41       118671.85  383199.62    Dhaka  182901.99\n",
       "4        142107.34        91391.77  366168.42  Rangpur  166187.94"
      ]
     },
     "execution_count": 46,
     "metadata": {},
     "output_type": "execute_result"
    }
   ],
   "source": [
    "df.head()"
   ]
  },
  {
   "cell_type": "code",
   "execution_count": 54,
   "id": "0f5b152d",
   "metadata": {},
   "outputs": [],
   "source": [
    "rs = RobustScaler()\n",
    "x = df.drop('Profit', axis=1) # drop target variable / 1 for column\n",
    "for column in x.columns:\n",
    "    if  x.dtypes[column] != object:\n",
    "        df[column] = rs.fit_transform(df[[column]])\n"
   ]
  },
  {
   "cell_type": "code",
   "execution_count": 56,
   "id": "8aa52546",
   "metadata": {},
   "outputs": [
    {
     "data": {
      "text/html": [
       "<div>\n",
       "<style scoped>\n",
       "    .dataframe tbody tr th:only-of-type {\n",
       "        vertical-align: middle;\n",
       "    }\n",
       "\n",
       "    .dataframe tbody tr th {\n",
       "        vertical-align: top;\n",
       "    }\n",
       "\n",
       "    .dataframe thead th {\n",
       "        text-align: right;\n",
       "    }\n",
       "</style>\n",
       "<table border=\"1\" class=\"dataframe\">\n",
       "  <thead>\n",
       "    <tr style=\"text-align: right;\">\n",
       "      <th></th>\n",
       "      <th>Marketing Spend</th>\n",
       "      <th>Administration</th>\n",
       "      <th>Transport</th>\n",
       "      <th>Area</th>\n",
       "      <th>Profit</th>\n",
       "    </tr>\n",
       "  </thead>\n",
       "  <tbody>\n",
       "    <tr>\n",
       "      <th>0</th>\n",
       "      <td>0.672530</td>\n",
       "      <td>0.345355</td>\n",
       "      <td>1.552016</td>\n",
       "      <td>Dhaka</td>\n",
       "      <td>192261.83</td>\n",
       "    </tr>\n",
       "    <tr>\n",
       "      <th>1</th>\n",
       "      <td>1.452113</td>\n",
       "      <td>0.697565</td>\n",
       "      <td>1.383714</td>\n",
       "      <td>Ctg</td>\n",
       "      <td>191792.06</td>\n",
       "    </tr>\n",
       "    <tr>\n",
       "      <th>2</th>\n",
       "      <td>1.303634</td>\n",
       "      <td>-0.524290</td>\n",
       "      <td>1.166654</td>\n",
       "      <td>Rangpur</td>\n",
       "      <td>191050.39</td>\n",
       "    </tr>\n",
       "    <tr>\n",
       "      <th>3</th>\n",
       "      <td>1.156567</td>\n",
       "      <td>-0.097977</td>\n",
       "      <td>1.017368</td>\n",
       "      <td>Dhaka</td>\n",
       "      <td>182901.99</td>\n",
       "    </tr>\n",
       "    <tr>\n",
       "      <th>4</th>\n",
       "      <td>1.119836</td>\n",
       "      <td>-0.761543</td>\n",
       "      <td>0.914576</td>\n",
       "      <td>Rangpur</td>\n",
       "      <td>166187.94</td>\n",
       "    </tr>\n",
       "  </tbody>\n",
       "</table>\n",
       "</div>"
      ],
      "text/plain": [
       "   Marketing Spend  Administration  Transport     Area     Profit\n",
       "0         0.672530        0.345355   1.552016    Dhaka  192261.83\n",
       "1         1.452113        0.697565   1.383714      Ctg  191792.06\n",
       "2         1.303634       -0.524290   1.166654  Rangpur  191050.39\n",
       "3         1.156567       -0.097977   1.017368    Dhaka  182901.99\n",
       "4         1.119836       -0.761543   0.914576  Rangpur  166187.94"
      ]
     },
     "execution_count": 56,
     "metadata": {},
     "output_type": "execute_result"
    }
   ],
   "source": [
    "df.head()"
   ]
  },
  {
   "cell_type": "code",
   "execution_count": null,
   "id": "3ae00348",
   "metadata": {},
   "outputs": [],
   "source": []
  }
 ],
 "metadata": {
  "kernelspec": {
   "display_name": "Python 3 (ipykernel)",
   "language": "python",
   "name": "python3"
  },
  "language_info": {
   "codemirror_mode": {
    "name": "ipython",
    "version": 3
   },
   "file_extension": ".py",
   "mimetype": "text/x-python",
   "name": "python",
   "nbconvert_exporter": "python",
   "pygments_lexer": "ipython3",
   "version": "3.9.13"
  }
 },
 "nbformat": 4,
 "nbformat_minor": 5
}
