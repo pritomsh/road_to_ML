{
 "cells": [
  {
   "cell_type": "code",
   "execution_count": 1,
   "id": "7bfe72df",
   "metadata": {},
   "outputs": [],
   "source": [
    "import pandas as pd\n",
    "import matplotlib.pyplot as plt\n",
    "from sklearn.linear_model import LinearRegression\n",
    "from sklearn.metrics import mean_squared_error, mean_absolute_error\n",
    "from sklearn.model_selection import train_test_split\n",
    "import warnings as wr\n",
    "wr.filterwarnings('ignore')"
   ]
  },
  {
   "cell_type": "code",
   "execution_count": 2,
   "id": "da2a99e3",
   "metadata": {},
   "outputs": [],
   "source": [
    "df = pd.read_csv('Dhaka Rent.csv')"
   ]
  },
  {
   "cell_type": "code",
   "execution_count": 3,
   "id": "b16349f2",
   "metadata": {},
   "outputs": [
    {
     "data": {
      "text/html": [
       "<div>\n",
       "<style scoped>\n",
       "    .dataframe tbody tr th:only-of-type {\n",
       "        vertical-align: middle;\n",
       "    }\n",
       "\n",
       "    .dataframe tbody tr th {\n",
       "        vertical-align: top;\n",
       "    }\n",
       "\n",
       "    .dataframe thead th {\n",
       "        text-align: right;\n",
       "    }\n",
       "</style>\n",
       "<table border=\"1\" class=\"dataframe\">\n",
       "  <thead>\n",
       "    <tr style=\"text-align: right;\">\n",
       "      <th></th>\n",
       "      <th>area</th>\n",
       "      <th>rent</th>\n",
       "    </tr>\n",
       "  </thead>\n",
       "  <tbody>\n",
       "    <tr>\n",
       "      <th>0</th>\n",
       "      <td>2000</td>\n",
       "      <td>31500</td>\n",
       "    </tr>\n",
       "    <tr>\n",
       "      <th>1</th>\n",
       "      <td>2100</td>\n",
       "      <td>35000</td>\n",
       "    </tr>\n",
       "    <tr>\n",
       "      <th>2</th>\n",
       "      <td>2500</td>\n",
       "      <td>41050</td>\n",
       "    </tr>\n",
       "    <tr>\n",
       "      <th>3</th>\n",
       "      <td>2250</td>\n",
       "      <td>36100</td>\n",
       "    </tr>\n",
       "    <tr>\n",
       "      <th>4</th>\n",
       "      <td>3000</td>\n",
       "      <td>52100</td>\n",
       "    </tr>\n",
       "  </tbody>\n",
       "</table>\n",
       "</div>"
      ],
      "text/plain": [
       "   area   rent\n",
       "0  2000  31500\n",
       "1  2100  35000\n",
       "2  2500  41050\n",
       "3  2250  36100\n",
       "4  3000  52100"
      ]
     },
     "execution_count": 3,
     "metadata": {},
     "output_type": "execute_result"
    }
   ],
   "source": [
    "df.head()"
   ]
  },
  {
   "cell_type": "code",
   "execution_count": 4,
   "id": "37334071",
   "metadata": {},
   "outputs": [
    {
     "data": {
      "text/plain": [
       "(60, 2)"
      ]
     },
     "execution_count": 4,
     "metadata": {},
     "output_type": "execute_result"
    }
   ],
   "source": [
    "df.shape"
   ]
  },
  {
   "cell_type": "code",
   "execution_count": 5,
   "id": "b7b91676",
   "metadata": {},
   "outputs": [
    {
     "data": {
      "text/plain": [
       "area    0\n",
       "rent    0\n",
       "dtype: int64"
      ]
     },
     "execution_count": 5,
     "metadata": {},
     "output_type": "execute_result"
    }
   ],
   "source": [
    "df.isnull().sum()"
   ]
  },
  {
   "cell_type": "code",
   "execution_count": 6,
   "id": "26a7338f",
   "metadata": {},
   "outputs": [
    {
     "name": "stdout",
     "output_type": "stream",
     "text": [
      "<class 'pandas.core.frame.DataFrame'>\n",
      "RangeIndex: 60 entries, 0 to 59\n",
      "Data columns (total 2 columns):\n",
      " #   Column  Non-Null Count  Dtype\n",
      "---  ------  --------------  -----\n",
      " 0   area    60 non-null     int64\n",
      " 1   rent    60 non-null     int64\n",
      "dtypes: int64(2)\n",
      "memory usage: 1.1 KB\n"
     ]
    }
   ],
   "source": [
    "df.info()"
   ]
  },
  {
   "cell_type": "code",
   "execution_count": 7,
   "id": "c3bc69e4",
   "metadata": {},
   "outputs": [
    {
     "data": {
      "text/plain": [
       "2289.0"
      ]
     },
     "execution_count": 7,
     "metadata": {},
     "output_type": "execute_result"
    }
   ],
   "source": [
    "df.area.mean()"
   ]
  },
  {
   "cell_type": "code",
   "execution_count": 8,
   "id": "e325af96",
   "metadata": {},
   "outputs": [
    {
     "data": {
      "text/plain": [
       "37269.166666666664"
      ]
     },
     "execution_count": 8,
     "metadata": {},
     "output_type": "execute_result"
    }
   ],
   "source": [
    "df.rent.mean()"
   ]
  },
  {
   "cell_type": "code",
   "execution_count": 9,
   "id": "1e6ee62f",
   "metadata": {},
   "outputs": [],
   "source": [
    "x = df[['area']] # x = df.drop('rent', axis=1)"
   ]
  },
  {
   "cell_type": "code",
   "execution_count": 10,
   "id": "e676ff38",
   "metadata": {},
   "outputs": [],
   "source": [
    "y = df[['rent']]"
   ]
  },
  {
   "cell_type": "code",
   "execution_count": 11,
   "id": "cbe2d3cc",
   "metadata": {},
   "outputs": [
    {
     "data": {
      "text/html": [
       "<div>\n",
       "<style scoped>\n",
       "    .dataframe tbody tr th:only-of-type {\n",
       "        vertical-align: middle;\n",
       "    }\n",
       "\n",
       "    .dataframe tbody tr th {\n",
       "        vertical-align: top;\n",
       "    }\n",
       "\n",
       "    .dataframe thead th {\n",
       "        text-align: right;\n",
       "    }\n",
       "</style>\n",
       "<table border=\"1\" class=\"dataframe\">\n",
       "  <thead>\n",
       "    <tr style=\"text-align: right;\">\n",
       "      <th></th>\n",
       "      <th>area</th>\n",
       "    </tr>\n",
       "  </thead>\n",
       "  <tbody>\n",
       "    <tr>\n",
       "      <th>0</th>\n",
       "      <td>2000</td>\n",
       "    </tr>\n",
       "    <tr>\n",
       "      <th>1</th>\n",
       "      <td>2100</td>\n",
       "    </tr>\n",
       "    <tr>\n",
       "      <th>2</th>\n",
       "      <td>2500</td>\n",
       "    </tr>\n",
       "    <tr>\n",
       "      <th>3</th>\n",
       "      <td>2250</td>\n",
       "    </tr>\n",
       "    <tr>\n",
       "      <th>4</th>\n",
       "      <td>3000</td>\n",
       "    </tr>\n",
       "  </tbody>\n",
       "</table>\n",
       "</div>"
      ],
      "text/plain": [
       "   area\n",
       "0  2000\n",
       "1  2100\n",
       "2  2500\n",
       "3  2250\n",
       "4  3000"
      ]
     },
     "execution_count": 11,
     "metadata": {},
     "output_type": "execute_result"
    }
   ],
   "source": [
    "x.head()"
   ]
  },
  {
   "cell_type": "code",
   "execution_count": 12,
   "id": "81288b12",
   "metadata": {},
   "outputs": [
    {
     "data": {
      "text/html": [
       "<div>\n",
       "<style scoped>\n",
       "    .dataframe tbody tr th:only-of-type {\n",
       "        vertical-align: middle;\n",
       "    }\n",
       "\n",
       "    .dataframe tbody tr th {\n",
       "        vertical-align: top;\n",
       "    }\n",
       "\n",
       "    .dataframe thead th {\n",
       "        text-align: right;\n",
       "    }\n",
       "</style>\n",
       "<table border=\"1\" class=\"dataframe\">\n",
       "  <thead>\n",
       "    <tr style=\"text-align: right;\">\n",
       "      <th></th>\n",
       "      <th>rent</th>\n",
       "    </tr>\n",
       "  </thead>\n",
       "  <tbody>\n",
       "    <tr>\n",
       "      <th>0</th>\n",
       "      <td>31500</td>\n",
       "    </tr>\n",
       "    <tr>\n",
       "      <th>1</th>\n",
       "      <td>35000</td>\n",
       "    </tr>\n",
       "    <tr>\n",
       "      <th>2</th>\n",
       "      <td>41050</td>\n",
       "    </tr>\n",
       "    <tr>\n",
       "      <th>3</th>\n",
       "      <td>36100</td>\n",
       "    </tr>\n",
       "    <tr>\n",
       "      <th>4</th>\n",
       "      <td>52100</td>\n",
       "    </tr>\n",
       "  </tbody>\n",
       "</table>\n",
       "</div>"
      ],
      "text/plain": [
       "    rent\n",
       "0  31500\n",
       "1  35000\n",
       "2  41050\n",
       "3  36100\n",
       "4  52100"
      ]
     },
     "execution_count": 12,
     "metadata": {},
     "output_type": "execute_result"
    }
   ],
   "source": [
    "y.head() #"
   ]
  },
  {
   "cell_type": "code",
   "execution_count": 13,
   "id": "b954916a",
   "metadata": {},
   "outputs": [],
   "source": [
    "reg = LinearRegression()  "
   ]
  },
  {
   "cell_type": "code",
   "execution_count": 14,
   "id": "2c24ceba",
   "metadata": {},
   "outputs": [
    {
     "data": {
      "text/plain": [
       "LinearRegression()"
      ]
     },
     "execution_count": 14,
     "metadata": {},
     "output_type": "execute_result"
    }
   ],
   "source": [
    "reg.fit(x,y) "
   ]
  },
  {
   "cell_type": "code",
   "execution_count": 15,
   "id": "dbfd12f7",
   "metadata": {},
   "outputs": [],
   "source": [
    "#reg.coef_ "
   ]
  },
  {
   "cell_type": "code",
   "execution_count": 16,
   "id": "175d9b97",
   "metadata": {},
   "outputs": [],
   "source": [
    "#reg.intercept_ "
   ]
  },
  {
   "cell_type": "code",
   "execution_count": 17,
   "id": "ed218295",
   "metadata": {},
   "outputs": [],
   "source": [
    "#reg.predict([[3000]])"
   ]
  },
  {
   "cell_type": "code",
   "execution_count": 18,
   "id": "d10c32d5",
   "metadata": {},
   "outputs": [],
   "source": [
    "#result = ((reg.coef_) * 3000) + (reg.intercept_)\n",
    "#result"
   ]
  },
  {
   "cell_type": "code",
   "execution_count": 19,
   "id": "212b82e4",
   "metadata": {},
   "outputs": [],
   "source": [
    "#52408.2489744-52100"
   ]
  },
  {
   "cell_type": "code",
   "execution_count": 20,
   "id": "97bb73d6",
   "metadata": {},
   "outputs": [],
   "source": [
    "#df['predicted_rent'] = reg.predict(x)"
   ]
  },
  {
   "cell_type": "code",
   "execution_count": 21,
   "id": "ddcf6e40",
   "metadata": {},
   "outputs": [],
   "source": [
    "#y.head()"
   ]
  },
  {
   "cell_type": "code",
   "execution_count": 22,
   "id": "a8351489",
   "metadata": {},
   "outputs": [
    {
     "data": {
      "text/plain": [
       "[<matplotlib.lines.Line2D at 0x215e8226d60>]"
      ]
     },
     "execution_count": 22,
     "metadata": {},
     "output_type": "execute_result"
    },
    {
     "data": {
      "image/png": "[encoded data removed]",
      "text/plain": [
       "<Figure size 640x480 with 1 Axes>"
      ]
     },
     "metadata": {},
     "output_type": "display_data"
    }
   ],
   "source": [
    "plt.plot(df.area, reg.predict(x))"
   ]
  },
  {
   "cell_type": "code",
   "execution_count": 23,
   "id": "79ce0516",
   "metadata": {},
   "outputs": [
    {
     "data": {
      "image/png": "[encoded data removed]",
      "text/plain": [
       "<Figure size 640x480 with 1 Axes>"
      ]
     },
     "metadata": {},
     "output_type": "display_data"
    }
   ],
   "source": [
    "plt.plot(df.area, reg.predict(df[['area']]))\n",
    "# x axis = area\n",
    "# y axis = predicted rent\n",
    "\n",
    "plt.scatter(df.area, df.rent, color='black')\n",
    "plt.xlabel('Area in square feet')\n",
    "plt.ylabel('Rent in Bangladeshi Taka')\n",
    "plt.title('Area - Rent Plot')\n",
    "plt.savefig('img1.png')"
   ]
  },
  {
   "cell_type": "code",
   "execution_count": 24,
   "id": "5bfa352b",
   "metadata": {},
   "outputs": [
    {
     "data": {
      "text/plain": [
       "0.950249380357677"
      ]
     },
     "execution_count": 24,
     "metadata": {},
     "output_type": "execute_result"
    }
   ],
   "source": [
    "reg.score(x,y) # training sccuracy"
   ]
  },
  {
   "cell_type": "code",
   "execution_count": 25,
   "id": "6f61c2a3",
   "metadata": {},
   "outputs": [
    {
     "data": {
      "text/plain": [
       "6778077.204095561"
      ]
     },
     "execution_count": 25,
     "metadata": {},
     "output_type": "execute_result"
    }
   ],
   "source": [
    "# actual - predicted\n",
    "mean_squared_error(y, reg.predict(df[['area']]))"
   ]
  },
  {
   "cell_type": "code",
   "execution_count": 26,
   "id": "1eb66ad8",
   "metadata": {},
   "outputs": [
    {
     "data": {
      "text/plain": [
       "2009.8695093576282"
      ]
     },
     "execution_count": 26,
     "metadata": {},
     "output_type": "execute_result"
    }
   ],
   "source": [
    "mean_absolute_error(y, reg.predict(df[['area']]))"
   ]
  },
  {
   "cell_type": "markdown",
   "id": "09af8341",
   "metadata": {},
   "source": [
    "#  Train Test Data "
   ]
  },
  {
   "cell_type": "code",
   "execution_count": 27,
   "id": "41f7bc48",
   "metadata": {},
   "outputs": [],
   "source": [
    "xtrain,xtest,ytrain,ytest = train_test_split(x,y, test_size = .30, random_state = 1) #train_size = .70 "
   ]
  },
  {
   "cell_type": "code",
   "execution_count": 28,
   "id": "f7cda90e",
   "metadata": {},
   "outputs": [
    {
     "data": {
      "text/html": [
       "<div>\n",
       "<style scoped>\n",
       "    .dataframe tbody tr th:only-of-type {\n",
       "        vertical-align: middle;\n",
       "    }\n",
       "\n",
       "    .dataframe tbody tr th {\n",
       "        vertical-align: top;\n",
       "    }\n",
       "\n",
       "    .dataframe thead th {\n",
       "        text-align: right;\n",
       "    }\n",
       "</style>\n",
       "<table border=\"1\" class=\"dataframe\">\n",
       "  <thead>\n",
       "    <tr style=\"text-align: right;\">\n",
       "      <th></th>\n",
       "      <th>area</th>\n",
       "    </tr>\n",
       "  </thead>\n",
       "  <tbody>\n",
       "    <tr>\n",
       "      <th>52</th>\n",
       "      <td>3500</td>\n",
       "    </tr>\n",
       "    <tr>\n",
       "      <th>19</th>\n",
       "      <td>2700</td>\n",
       "    </tr>\n",
       "    <tr>\n",
       "      <th>42</th>\n",
       "      <td>2100</td>\n",
       "    </tr>\n",
       "    <tr>\n",
       "      <th>56</th>\n",
       "      <td>2750</td>\n",
       "    </tr>\n",
       "    <tr>\n",
       "      <th>17</th>\n",
       "      <td>1550</td>\n",
       "    </tr>\n",
       "  </tbody>\n",
       "</table>\n",
       "</div>"
      ],
      "text/plain": [
       "    area\n",
       "52  3500\n",
       "19  2700\n",
       "42  2100\n",
       "56  2750\n",
       "17  1550"
      ]
     },
     "execution_count": 28,
     "metadata": {},
     "output_type": "execute_result"
    }
   ],
   "source": [
    "xtrain.head()"
   ]
  },
  {
   "cell_type": "code",
   "execution_count": 29,
   "id": "f4719897",
   "metadata": {},
   "outputs": [
    {
     "data": {
      "text/html": [
       "<div>\n",
       "<style scoped>\n",
       "    .dataframe tbody tr th:only-of-type {\n",
       "        vertical-align: middle;\n",
       "    }\n",
       "\n",
       "    .dataframe tbody tr th {\n",
       "        vertical-align: top;\n",
       "    }\n",
       "\n",
       "    .dataframe thead th {\n",
       "        text-align: right;\n",
       "    }\n",
       "</style>\n",
       "<table border=\"1\" class=\"dataframe\">\n",
       "  <thead>\n",
       "    <tr style=\"text-align: right;\">\n",
       "      <th></th>\n",
       "      <th>rent</th>\n",
       "    </tr>\n",
       "  </thead>\n",
       "  <tbody>\n",
       "    <tr>\n",
       "      <th>52</th>\n",
       "      <td>70500</td>\n",
       "    </tr>\n",
       "    <tr>\n",
       "      <th>19</th>\n",
       "      <td>47000</td>\n",
       "    </tr>\n",
       "    <tr>\n",
       "      <th>42</th>\n",
       "      <td>34700</td>\n",
       "    </tr>\n",
       "    <tr>\n",
       "      <th>56</th>\n",
       "      <td>48500</td>\n",
       "    </tr>\n",
       "    <tr>\n",
       "      <th>17</th>\n",
       "      <td>21000</td>\n",
       "    </tr>\n",
       "  </tbody>\n",
       "</table>\n",
       "</div>"
      ],
      "text/plain": [
       "     rent\n",
       "52  70500\n",
       "19  47000\n",
       "42  34700\n",
       "56  48500\n",
       "17  21000"
      ]
     },
     "execution_count": 29,
     "metadata": {},
     "output_type": "execute_result"
    }
   ],
   "source": [
    "ytrain.head()"
   ]
  },
  {
   "cell_type": "code",
   "execution_count": 30,
   "id": "84e0cc75",
   "metadata": {},
   "outputs": [
    {
     "data": {
      "text/plain": [
       "(42, 1)"
      ]
     },
     "execution_count": 30,
     "metadata": {},
     "output_type": "execute_result"
    }
   ],
   "source": [
    "xtrain.shape"
   ]
  },
  {
   "cell_type": "code",
   "execution_count": 31,
   "id": "007ba72d",
   "metadata": {},
   "outputs": [
    {
     "data": {
      "text/plain": [
       "(42, 1)"
      ]
     },
     "execution_count": 31,
     "metadata": {},
     "output_type": "execute_result"
    }
   ],
   "source": [
    "ytrain.shape"
   ]
  },
  {
   "cell_type": "code",
   "execution_count": 32,
   "id": "f3abc749",
   "metadata": {},
   "outputs": [
    {
     "data": {
      "text/plain": [
       "(18, 1)"
      ]
     },
     "execution_count": 32,
     "metadata": {},
     "output_type": "execute_result"
    }
   ],
   "source": [
    "xtest.shape"
   ]
  },
  {
   "cell_type": "code",
   "execution_count": 33,
   "id": "2370f3ba",
   "metadata": {},
   "outputs": [
    {
     "data": {
      "text/plain": [
       "(18, 1)"
      ]
     },
     "execution_count": 33,
     "metadata": {},
     "output_type": "execute_result"
    }
   ],
   "source": [
    "ytest.shape"
   ]
  },
  {
   "cell_type": "code",
   "execution_count": 34,
   "id": "6979c76c",
   "metadata": {},
   "outputs": [],
   "source": [
    "#for save data \n",
    "#xtrain.to_csv('trainx.csv')"
   ]
  },
  {
   "cell_type": "code",
   "execution_count": 35,
   "id": "9a529642",
   "metadata": {},
   "outputs": [],
   "source": [
    "reg1 = LinearRegression()"
   ]
  },
  {
   "cell_type": "code",
   "execution_count": 36,
   "id": "31b4c615",
   "metadata": {},
   "outputs": [
    {
     "data": {
      "text/plain": [
       "LinearRegression()"
      ]
     },
     "execution_count": 36,
     "metadata": {},
     "output_type": "execute_result"
    }
   ],
   "source": [
    "reg1.fit(xtrain,ytrain)"
   ]
  },
  {
   "cell_type": "code",
   "execution_count": 37,
   "id": "00256bec",
   "metadata": {},
   "outputs": [
    {
     "data": {
      "text/plain": [
       "array([[21.71038918]])"
      ]
     },
     "execution_count": 37,
     "metadata": {},
     "output_type": "execute_result"
    }
   ],
   "source": [
    "reg1.coef_"
   ]
  },
  {
   "cell_type": "code",
   "execution_count": 38,
   "id": "b22a0935",
   "metadata": {},
   "outputs": [
    {
     "data": {
      "text/plain": [
       "array([-12534.95598546])"
      ]
     },
     "execution_count": 38,
     "metadata": {},
     "output_type": "execute_result"
    }
   ],
   "source": [
    "reg1.intercept_"
   ]
  },
  {
   "cell_type": "code",
   "execution_count": 39,
   "id": "471dd4ab",
   "metadata": {},
   "outputs": [
    {
     "data": {
      "text/plain": [
       "array([[52596.21154101]])"
      ]
     },
     "execution_count": 39,
     "metadata": {},
     "output_type": "execute_result"
    }
   ],
   "source": [
    "reg1.predict([[3000]])"
   ]
  },
  {
   "cell_type": "code",
   "execution_count": 40,
   "id": "8892065a",
   "metadata": {},
   "outputs": [
    {
     "data": {
      "text/plain": [
       "0.9515633925067879"
      ]
     },
     "execution_count": 40,
     "metadata": {},
     "output_type": "execute_result"
    }
   ],
   "source": [
    "reg1.score(xtrain,ytrain) # training sccuracy"
   ]
  },
  {
   "cell_type": "code",
   "execution_count": 41,
   "id": "b61135a3",
   "metadata": {},
   "outputs": [
    {
     "data": {
      "text/plain": [
       "array([[33056.86128307],\n",
       "       [33056.86128307],\n",
       "       [41741.01695327],\n",
       "       [26543.74453042],\n",
       "       [33273.96517483],\n",
       "       [36313.4196594 ],\n",
       "       [36313.4196594 ],\n",
       "       [28714.78344797],\n",
       "       [34142.38074185],\n",
       "       [26543.74453042],\n",
       "       [48254.13370592],\n",
       "       [13517.51102513],\n",
       "       [26543.74453042],\n",
       "       [36313.4196594 ],\n",
       "       [47168.61424714],\n",
       "       [20030.62777778],\n",
       "       [33056.86128307],\n",
       "       [34142.38074185]])"
      ]
     },
     "execution_count": 41,
     "metadata": {},
     "output_type": "execute_result"
    }
   ],
   "source": [
    "reg1.predict(xtest)"
   ]
  },
  {
   "cell_type": "code",
   "execution_count": 44,
   "id": "d4975cfd",
   "metadata": {},
   "outputs": [],
   "source": [
    "pred = reg1.predict(xtest)"
   ]
  },
  {
   "cell_type": "code",
   "execution_count": 45,
   "id": "1df9a477",
   "metadata": {},
   "outputs": [
    {
     "data": {
      "text/plain": [
       "array([[33056.86128307],\n",
       "       [33056.86128307],\n",
       "       [41741.01695327],\n",
       "       [26543.74453042],\n",
       "       [33273.96517483],\n",
       "       [36313.4196594 ],\n",
       "       [36313.4196594 ],\n",
       "       [28714.78344797],\n",
       "       [34142.38074185],\n",
       "       [26543.74453042],\n",
       "       [48254.13370592],\n",
       "       [13517.51102513],\n",
       "       [26543.74453042],\n",
       "       [36313.4196594 ],\n",
       "       [47168.61424714],\n",
       "       [20030.62777778],\n",
       "       [33056.86128307],\n",
       "       [34142.38074185]])"
      ]
     },
     "execution_count": 45,
     "metadata": {},
     "output_type": "execute_result"
    }
   ],
   "source": [
    "pred"
   ]
  },
  {
   "cell_type": "code",
   "execution_count": 46,
   "id": "033a94b2",
   "metadata": {},
   "outputs": [
    {
     "data": {
      "text/plain": [
       "0.9174928490312289"
      ]
     },
     "execution_count": 46,
     "metadata": {},
     "output_type": "execute_result"
    }
   ],
   "source": [
    "reg1.score(xtest,ytest)"
   ]
  },
  {
   "cell_type": "code",
   "execution_count": 47,
   "id": "bf6de278",
   "metadata": {},
   "outputs": [
    {
     "data": {
      "text/plain": [
       "0.9515633925067879"
      ]
     },
     "execution_count": 47,
     "metadata": {},
     "output_type": "execute_result"
    }
   ],
   "source": [
    "reg1.score(xtrain,ytrain)"
   ]
  },
  {
   "cell_type": "code",
   "execution_count": 48,
   "id": "6bf02a7f",
   "metadata": {},
   "outputs": [
    {
     "data": {
      "text/plain": [
       "[<matplotlib.lines.Line2D at 0x215e82efb20>]"
      ]
     },
     "execution_count": 48,
     "metadata": {},
     "output_type": "execute_result"
    },
    {
     "data": {
      "image/png": "[encoded data removed]",
      "text/plain": [
       "<Figure size 640x480 with 1 Axes>"
      ]
     },
     "metadata": {},
     "output_type": "display_data"
    }
   ],
   "source": [
    "plt.plot(xtest,reg1.predict(xtest))"
   ]
  },
  {
   "cell_type": "code",
   "execution_count": 51,
   "id": "74f5fa88",
   "metadata": {},
   "outputs": [
    {
     "data": {
      "text/plain": [
       "<matplotlib.collections.PathCollection at 0x215e86321f0>"
      ]
     },
     "execution_count": 51,
     "metadata": {},
     "output_type": "execute_result"
    },
    {
     "data": {
      "image/png": "[encoded data removed]",
      "text/plain": [
       "<Figure size 640x480 with 1 Axes>"
      ]
     },
     "metadata": {},
     "output_type": "display_data"
    }
   ],
   "source": [
    "plt.plot(xtest,reg1.predict(xtest),color ='black')\n",
    "plt.scatter(xtest,ytest, color = 'red')\n",
    "plt.scatter(xtrain,ytrain)"
   ]
  },
  {
   "cell_type": "code",
   "execution_count": 52,
   "id": "f2458c62",
   "metadata": {},
   "outputs": [],
   "source": [
    "import pickle as pk \n",
    "import joblib"
   ]
  },
  {
   "cell_type": "code",
   "execution_count": 57,
   "id": "a71cb252",
   "metadata": {},
   "outputs": [],
   "source": [
    "pk.dump(reg1,open('my_lr1','wb'))"
   ]
  },
  {
   "cell_type": "code",
   "execution_count": 59,
   "id": "cf6ef582",
   "metadata": {},
   "outputs": [],
   "source": [
    "reg2= pk.load(open('my_lr1','rb')) #read binary"
   ]
  },
  {
   "cell_type": "code",
   "execution_count": 60,
   "id": "80c8c927",
   "metadata": {},
   "outputs": [
    {
     "data": {
      "text/plain": [
       "array([[52596.21154101]])"
      ]
     },
     "execution_count": 60,
     "metadata": {},
     "output_type": "execute_result"
    }
   ],
   "source": [
    "reg2.predict([[3000]])"
   ]
  },
  {
   "cell_type": "code",
   "execution_count": null,
   "id": "4ed8379f",
   "metadata": {},
   "outputs": [],
   "source": []
  }
 ],
 "metadata": {
  "kernelspec": {
   "display_name": "Python 3 (ipykernel)",
   "language": "python",
   "name": "python3"
  },
  "language_info": {
   "codemirror_mode": {
    "name": "ipython",
    "version": 3
   },
   "file_extension": ".py",
   "mimetype": "text/x-python",
   "name": "python",
   "nbconvert_exporter": "python",
   "pygments_lexer": "ipython3",
   "version": "3.9.13"
  }
 },
 "nbformat": 4,
 "nbformat_minor": 5
}
